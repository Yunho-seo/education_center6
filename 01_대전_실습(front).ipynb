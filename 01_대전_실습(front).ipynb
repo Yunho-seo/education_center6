{
  "nbformat": 4,
  "nbformat_minor": 0,
  "metadata": {
    "colab": {
      "provenance": [],
      "authorship_tag": "ABX9TyMZ/ddmZk77AvKNodkh0Fqj",
      "include_colab_link": true
    },
    "kernelspec": {
      "name": "python3",
      "display_name": "Python 3"
    },
    "language_info": {
      "name": "python"
    }
  },
  "cells": [
    {
      "cell_type": "markdown",
      "metadata": {
        "id": "view-in-github",
        "colab_type": "text"
      },
      "source": [
        "<a href=\"https://colab.research.google.com/github/Yunho-seo/education_center6/blob/main/01_%EB%8C%80%EC%A0%84_%EC%8B%A4%EC%8A%B5(front).ipynb\" target=\"_parent\"><img src=\"https://colab.research.google.com/assets/colab-badge.svg\" alt=\"Open In Colab\"/></a>"
      ]
    },
    {
      "cell_type": "code",
      "source": [
        "# 수신부"
      ],
      "metadata": {
        "id": "4rP1kxxZ7xTw"
      },
      "execution_count": null,
      "outputs": []
    },
    {
      "cell_type": "code",
      "execution_count": null,
      "metadata": {
        "colab": {
          "base_uri": "https://localhost:8080/"
        },
        "id": "MZLI7tV8zy_i",
        "outputId": "6a0be877-66f9-49e5-a78c-54ec83d1a2c3"
      },
      "outputs": [
        {
          "output_type": "stream",
          "name": "stdout",
          "text": [
            "Looking in indexes: https://pypi.org/simple, https://us-python.pkg.dev/colab-wheels/public/simple/\n",
            "Collecting paho_mqtt\n",
            "  Downloading paho-mqtt-1.6.1.tar.gz (99 kB)\n",
            "\u001b[2K     \u001b[90m━━━━━━━━━━━━━━━━━━━━━━━━━━━━━━━━━━━━━━━━\u001b[0m \u001b[32m99.4/99.4 kB\u001b[0m \u001b[31m5.3 MB/s\u001b[0m eta \u001b[36m0:00:00\u001b[0m\n",
            "\u001b[?25h  Preparing metadata (setup.py) ... \u001b[?25l\u001b[?25hdone\n",
            "Building wheels for collected packages: paho_mqtt\n",
            "  Building wheel for paho_mqtt (setup.py) ... \u001b[?25l\u001b[?25hdone\n",
            "  Created wheel for paho_mqtt: filename=paho_mqtt-1.6.1-py3-none-any.whl size=62118 sha256=8d4a1d4a2a94952361a79566982c29cbd13ad0d2ce114a3c7c765f8c8abaad53\n",
            "  Stored in directory: /root/.cache/pip/wheels/8b/bb/0c/79444d1dee20324d442856979b5b519b48828b0bd3d05df84a\n",
            "Successfully built paho_mqtt\n",
            "Installing collected packages: paho_mqtt\n",
            "Successfully installed paho_mqtt-1.6.1\n"
          ]
        }
      ],
      "source": [
        "!pip install paho_mqtt"
      ]
    },
    {
      "cell_type": "code",
      "source": [
        "import paho.mqtt.client as mqtt\n",
        "client = mqtt.Client()  # MQTT 클라이언트 객체 생성\n",
        "# client.username_pw_set(username = 'testamin', password = '')\n",
        "client.connect('34.64.86.80', 19883)  # MQTT 브로커에 연결, IP 주소와 포트번호 지정\n",
        "client.publish('house/light', '빨리켜지기')  # housse/light 토픽으로 '빨리켜지기'라는 메시지를 게시"
      ],
      "metadata": {
        "colab": {
          "base_uri": "https://localhost:8080/"
        },
        "id": "qnLyR7nrz2C6",
        "outputId": "be27faf4-775c-4f9c-a6cc-cb4f49a03dba"
      },
      "execution_count": null,
      "outputs": [
        {
          "output_type": "execute_result",
          "data": {
            "text/plain": [
              "<paho.mqtt.client.MQTTMessageInfo at 0x7f603935fd80>"
            ]
          },
          "metadata": {},
          "execution_count": 3
        }
      ]
    },
    {
      "cell_type": "code",
      "source": [
        "client.subscribe('house/light', qos = 0)"
      ],
      "metadata": {
        "colab": {
          "base_uri": "https://localhost:8080/"
        },
        "id": "yzULm--rz7KI",
        "outputId": "45f2c817-18b1-4911-b95a-068b84155e31"
      },
      "execution_count": null,
      "outputs": [
        {
          "output_type": "execute_result",
          "data": {
            "text/plain": [
              "(0, 2)"
            ]
          },
          "metadata": {},
          "execution_count": 4
        }
      ]
    },
    {
      "cell_type": "code",
      "source": [
        "def on_connect(client, userdata, flags, rc):\n",
        "  print('연결되었습니다.' + str(rc))\n",
        "def on_message(client, userdata, msg):  # 함수 형태가 정해져 있음\n",
        "  print(msg.topic + '' + str(msg.payload))"
      ],
      "metadata": {
        "id": "wL-q7BMIz7MQ"
      },
      "execution_count": null,
      "outputs": []
    },
    {
      "cell_type": "code",
      "source": [
        "# 수신 프로그램"
      ],
      "metadata": {
        "id": "BsHSiefg7t9g"
      },
      "execution_count": null,
      "outputs": []
    },
    {
      "cell_type": "code",
      "source": [
        "# 이벤트 처리\n",
        "client = mqtt.Client()\n",
        "# client.username_pw_set(username = 'testmin', password = '')\n",
        "# on_ : 웹에서 event 처리할 때 사용\n",
        "client.on_connect = on_connect\n",
        "client.on_message = on_message\n",
        "client.connect('34.64.86.80', 19883)\n",
        "client.subscribe('house/light', qos = 1)  # 토픽 (topic, root로부터 시작하지 않음)\n",
        "                                          # 토픽은 MQTT에서 메시지를 게시하거나 구독하는 데에 사용되는 주제를 나타내는 문자열\n",
        "client.loop_forever()"
      ],
      "metadata": {
        "id": "kweMDIyoNxyz"
      },
      "execution_count": null,
      "outputs": []
    },
    {
      "cell_type": "code",
      "source": [
        "# JSON 수신 프로그램"
      ],
      "metadata": {
        "id": "CohYg2SGM3K0"
      },
      "execution_count": null,
      "outputs": []
    },
    {
      "cell_type": "code",
      "source": [
        "import json\n",
        "def on_connect(client, userdata, flags, rc):\n",
        "  print(\"연결되었습니다 \" + str(rc))\n",
        "def on_message(client, userdata, msg):\n",
        "  json_return = json.loads(msg.payload.decode('utf-8'))\n",
        "  print(json_return[\"light\"])\n",
        "  print(msg.topic + \" \" + str(json_return))"
      ],
      "metadata": {
        "id": "zDJoCQYfM5XN"
      },
      "execution_count": null,
      "outputs": []
    },
    {
      "cell_type": "code",
      "source": [
        "client = mqtt.Client()\n",
        "client.username_pw_set(username = \"daejeon\", password = \"daejeon1234\")\n",
        "client.on_connect = on_connect\n",
        "client.on_message = on_message\n",
        "client.connect('34.64.86.80', 19883)\n",
        "client.subscribe('house/light', qos = 1)\n",
        "client.loop_forever"
      ],
      "metadata": {
        "id": "mNCpVaHcNWbz"
      },
      "execution_count": null,
      "outputs": []
    },
    {
      "cell_type": "code",
      "source": [
        "!pip install pymysql"
      ],
      "metadata": {
        "id": "fnhG2EUdT-Vc"
      },
      "execution_count": null,
      "outputs": []
    },
    {
      "cell_type": "code",
      "source": [
        "import json\n",
        "import pymysql\n",
        "\n",
        "con = pymysql.connect(host='34.64.86.80', port = 3306, user = 'root', passwd = 'acorn1234',\n",
        "                     use_unicode = True, db = 'mqtt', charset = 'utf8', autocommit=True)\n",
        "cursor = con.cursor()\n",
        "\n",
        "def on_connect(client, userdata, flags, rc):\n",
        "  print(\"연결되었습니다 \" + str(rc))\n",
        "  client.subscribe('house/light')\n",
        "\n",
        "def on_message(client, userdata, msg):\n",
        "  json_return = json.loads(msg.payload.decode('utf-8'))  # 한글 표현\n",
        "  print(json_return[\"light\"])\n",
        "  print(json_return[\"hangeul\"])\n",
        "  print(msg.topic + \" \" + str(json_return))\n",
        "  try:\n",
        "    with con.cursor() as cursor:\n",
        "      sql = \"insert into mqtt (light, door, close, hangeul) values (%s, %s, %s, %s)\"\n",
        "      cursor.execute(sql, (json_return['light'], json_return['door'], json_return['close'], json_return['hangeul']))\n",
        "    con.commit()\n",
        "    print('저장 완료')\n",
        "  except Exception as e:\n",
        "    print('실행 오류:', e)\n",
        "  if json_return['close'] == 'true':\n",
        "    client.disconnect()\n",
        "\n",
        "def on_disconnect(client, userdata, rc):\n",
        "  print(\"해제 이유: \" + str(rc))\n",
        "  con.close()\n",
        "  client.connected_flag = False\n",
        "  client.disconnect_flag = True\n",
        "\n",
        "def on_subscribed(client, userdata, topic):\n",
        "  print('다음 토픽에 등록됨 : $topic')\n",
        "\n",
        "def on_subscribe(client, userdata, mid, granted_qos):\n",
        "  print(\"subscribed: \" + str(mid) + \" \" + str(granted_qos))\n",
        "\n",
        "def on_close(client, userdata, rc):\n",
        "  print(\"종료\")\n",
        "  con.close()"
      ],
      "metadata": {
        "id": "nnycBcdCM5dM"
      },
      "execution_count": null,
      "outputs": []
    },
    {
      "cell_type": "code",
      "source": [
        "client = mqtt.Client()\n",
        "client.username_pw_set(username = 'mirae', password='daejeon1234')\n",
        "client.on_connect = on_connect\n",
        "client.on_message = on_message\n",
        "client.on_disconnect = on_disconnect\n",
        "client.on_subscribe = on_subscribe\n",
        "client.on_subscribed = on_subscribed\n",
        "client.on_close = on_close\n",
        "client.connect('34.64.86.80', 19883)\n",
        "client.subscribe('house/light', qos=1)\n",
        "client.loop_forever()"
      ],
      "metadata": {
        "colab": {
          "base_uri": "https://localhost:8080/"
        },
        "id": "9N-3tEyeM5fD",
        "outputId": "5780d4aa-c5ba-40ff-81ee-0b420e4ef1db"
      },
      "execution_count": null,
      "outputs": [
        {
          "output_type": "stream",
          "name": "stdout",
          "text": [
            "연결되었습니다 0\n",
            "subscribed: 1 (1,)\n",
            "subscribed: 2 (0,)\n",
            "on\n",
            "대전\n",
            "house/light {'light': 'on', 'door': 'close', 'close': 'false', 'hangeul': '대전'}\n",
            "저장 완료\n",
            "on\n",
            "대전\n",
            "house/light {'light': 'on', 'door': 'close', 'close': 'true', 'hangeul': '대전'}\n",
            "저장 완료\n",
            "해제 이유: 0\n"
          ]
        },
        {
          "output_type": "execute_result",
          "data": {
            "text/plain": [
              "7"
            ]
          },
          "metadata": {},
          "execution_count": 24
        }
      ]
    },
    {
      "cell_type": "code",
      "source": [],
      "metadata": {
        "id": "v1gcuVmCM5g7"
      },
      "execution_count": null,
      "outputs": []
    },
    {
      "cell_type": "code",
      "source": [],
      "metadata": {
        "id": "3xBkYK_xM5i_"
      },
      "execution_count": null,
      "outputs": []
    },
    {
      "cell_type": "code",
      "source": [],
      "metadata": {
        "id": "qqLLx6PgM5kr"
      },
      "execution_count": null,
      "outputs": []
    },
    {
      "cell_type": "code",
      "source": [],
      "metadata": {
        "id": "z5ssVBN6M5m0"
      },
      "execution_count": null,
      "outputs": []
    }
  ]
}