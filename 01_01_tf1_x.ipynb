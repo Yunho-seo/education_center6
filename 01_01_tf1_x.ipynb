{
  "nbformat": 4,
  "nbformat_minor": 0,
  "metadata": {
    "colab": {
      "provenance": [],
      "gpuType": "T4",
      "authorship_tag": "ABX9TyMOL645nUFKiBgigb+CWQV7",
      "include_colab_link": true
    },
    "kernelspec": {
      "name": "python3",
      "display_name": "Python 3"
    },
    "language_info": {
      "name": "python"
    },
    "accelerator": "GPU"
  },
  "cells": [
    {
      "cell_type": "markdown",
      "metadata": {
        "id": "view-in-github",
        "colab_type": "text"
      },
      "source": [
        "<a href=\"https://colab.research.google.com/github/Yunho-seo/education_center6/blob/main/01_01_tf1_x.ipynb\" target=\"_parent\"><img src=\"https://colab.research.google.com/assets/colab-badge.svg\" alt=\"Open In Colab\"/></a>"
      ]
    },
    {
      "cell_type": "code",
      "execution_count": 1,
      "metadata": {
        "colab": {
          "base_uri": "https://localhost:8080/"
        },
        "id": "vAlgn807mpyR",
        "outputId": "c3aa47d1-aca5-488b-95a8-d43a8d9b1eb6"
      },
      "outputs": [
        {
          "output_type": "stream",
          "name": "stdout",
          "text": [
            "2.12.0\n",
            "2.12.0\n"
          ]
        }
      ],
      "source": [
        "# %tensorflow_version 1.x  # 지원 안됨\n",
        "\n",
        "import tensorflow as tf\n",
        "print(tf.__version__)\n",
        "from tensorflow import keras\n",
        "print(keras.__version__)"
      ]
    },
    {
      "cell_type": "code",
      "source": [
        "tf.test.gpu_device_name()  # /device:GPU:0 => 런타임 유형 변경"
      ],
      "metadata": {
        "colab": {
          "base_uri": "https://localhost:8080/",
          "height": 35
        },
        "id": "jCnUWSwWtl-G",
        "outputId": "3d8a94e2-ee20-453b-fa49-07a3cd499a03"
      },
      "execution_count": 2,
      "outputs": [
        {
          "output_type": "execute_result",
          "data": {
            "text/plain": [
              "'/device:GPU:0'"
            ],
            "application/vnd.google.colaboratory.intrinsic+json": {
              "type": "string"
            }
          },
          "metadata": {},
          "execution_count": 2
        }
      ]
    },
    {
      "cell_type": "code",
      "source": [
        "from tensorflow.python.client import device_lib\n",
        "device_lib.list_local_devices()  # Tesla T4"
      ],
      "metadata": {
        "colab": {
          "base_uri": "https://localhost:8080/"
        },
        "id": "Gmy_-ZOxtmnI",
        "outputId": "6ac5a8b6-37b9-4199-f39e-98da3fbb959c"
      },
      "execution_count": 3,
      "outputs": [
        {
          "output_type": "execute_result",
          "data": {
            "text/plain": [
              "[name: \"/device:CPU:0\"\n",
              " device_type: \"CPU\"\n",
              " memory_limit: 268435456\n",
              " locality {\n",
              " }\n",
              " incarnation: 8673990797990230456\n",
              " xla_global_id: -1,\n",
              " name: \"/device:GPU:0\"\n",
              " device_type: \"GPU\"\n",
              " memory_limit: 14328594432\n",
              " locality {\n",
              "   bus_id: 1\n",
              "   links {\n",
              "   }\n",
              " }\n",
              " incarnation: 173968837051834712\n",
              " physical_device_desc: \"device: 0, name: Tesla T4, pci bus id: 0000:00:04.0, compute capability: 7.5\"\n",
              " xla_global_id: 416903419]"
            ]
          },
          "metadata": {},
          "execution_count": 3
        }
      ]
    },
    {
      "cell_type": "code",
      "source": [
        "268435456 / 1024 / 1024 / 1024  # 0.25 (CPU 메모리)"
      ],
      "metadata": {
        "colab": {
          "base_uri": "https://localhost:8080/"
        },
        "id": "AozjZHO9tmpd",
        "outputId": "59d60d26-8353-4e9d-f093-e867fb6c9a57"
      },
      "execution_count": 4,
      "outputs": [
        {
          "output_type": "execute_result",
          "data": {
            "text/plain": [
              "0.25"
            ]
          },
          "metadata": {},
          "execution_count": 4
        }
      ]
    },
    {
      "cell_type": "code",
      "source": [
        "14328594432 / 1024 / 1024 / 1024  # 13.34 (GPU 메모리)"
      ],
      "metadata": {
        "colab": {
          "base_uri": "https://localhost:8080/"
        },
        "id": "i9ieq-Oztmre",
        "outputId": "cdc3fb1a-eee9-4b20-c3ea-12dd1ac13071"
      },
      "execution_count": 5,
      "outputs": [
        {
          "output_type": "execute_result",
          "data": {
            "text/plain": [
              "13.34454345703125"
            ]
          },
          "metadata": {},
          "execution_count": 5
        }
      ]
    },
    {
      "cell_type": "code",
      "source": [
        "x = [[2.]]\n",
        "print(type(x))  # list\n",
        "m = tf.matmul(x, x)  # matmul() : 행렬곱 연산\n",
        "print(type(m))  # EagerTensor / 2.0부터는 eager mode / 이전에는 graph mode\n",
        "# pytorch / tensorflow 동시에 사용한다.\n",
        "# pytorch : tensorflow의 2.x 형식하고 동일하다. (프로그래밍하기가 편리함) : openAPI가 pytorch를 사용한다.\n",
        "# YOLOv4까지는 tensorflow로 망을 구성하였다. YOLOv5부터는 pytorch를 사용한다.\n",
        "# tensorflow 2.x 버전부터 pytorch하고 같은 형식으로 변경됨. (keras를 이용하여)\n",
        "print('hello. {}'.format(m))"
      ],
      "metadata": {
        "colab": {
          "base_uri": "https://localhost:8080/"
        },
        "id": "4zbVrLlOtmtd",
        "outputId": "91f9e9c3-8679-4ec8-8824-2a5cf7c81e0b"
      },
      "execution_count": 6,
      "outputs": [
        {
          "output_type": "stream",
          "name": "stdout",
          "text": [
            "<class 'list'>\n",
            "<class 'tensorflow.python.framework.ops.EagerTensor'>\n",
            "hello. [[4.]]\n"
          ]
        }
      ]
    },
    {
      "cell_type": "code",
      "source": [
        "# tensorflow에서도 브로드캐스팅(broadcasting)이 가능하다.\n",
        "# tensor (3차원 이상의 행렬 데이터) + flow => graph(그래프) 망\n",
        "a = tf.constant([[1, 2], [3, 4]])\n",
        "print(a)\n",
        "b = a + tf.constant([1])  # broadcasting되고 있다.\n",
        "print(b)\n",
        "print(type(b))"
      ],
      "metadata": {
        "colab": {
          "base_uri": "https://localhost:8080/"
        },
        "id": "mZ9qbspdtmvd",
        "outputId": "6bffb3eb-91ad-498d-a8aa-5f143122b256"
      },
      "execution_count": 7,
      "outputs": [
        {
          "output_type": "stream",
          "name": "stdout",
          "text": [
            "tf.Tensor(\n",
            "[[1 2]\n",
            " [3 4]], shape=(2, 2), dtype=int32)\n",
            "tf.Tensor(\n",
            "[[2 3]\n",
            " [4 5]], shape=(2, 2), dtype=int32)\n",
            "<class 'tensorflow.python.framework.ops.EagerTensor'>\n"
          ]
        }
      ]
    },
    {
      "cell_type": "code",
      "source": [
        "print(a * b)  # [[1, 2], [3, 4]]에 b인 [[2, 3], [4, 5]]를 곱한 값 \n",
        "print(a + b)  # [[1, 2], [3, 4]]에 b인 [[2, 3], [4, 5]]를 더한 값 "
      ],
      "metadata": {
        "colab": {
          "base_uri": "https://localhost:8080/"
        },
        "id": "GqLcgz4ntm1d",
        "outputId": "f50541a0-6a72-471f-9f56-5f5d4f8a0646"
      },
      "execution_count": 8,
      "outputs": [
        {
          "output_type": "stream",
          "name": "stdout",
          "text": [
            "tf.Tensor(\n",
            "[[ 2  6]\n",
            " [12 20]], shape=(2, 2), dtype=int32)\n",
            "tf.Tensor(\n",
            "[[3 5]\n",
            " [7 9]], shape=(2, 2), dtype=int32)\n"
          ]
        }
      ]
    },
    {
      "cell_type": "code",
      "source": [
        "import numpy as np\n",
        "c = np.multiply(a, b)\n",
        "print(c)\n",
        "print(type(c))  # ndarray"
      ],
      "metadata": {
        "colab": {
          "base_uri": "https://localhost:8080/"
        },
        "id": "Wtx6fuRdtm3e",
        "outputId": "ded50600-b866-41f1-b16d-e6532eb99487"
      },
      "execution_count": 10,
      "outputs": [
        {
          "output_type": "stream",
          "name": "stdout",
          "text": [
            "[[ 2  6]\n",
            " [12 20]]\n",
            "<class 'numpy.ndarray'>\n"
          ]
        }
      ]
    },
    {
      "cell_type": "code",
      "source": [
        "# tf1.x 버전에서 작동하는 방식 (constant, variables, placeholder)\n",
        "with tf.compat.v1.Session() as sess:  # session : 원래는 네트워크에서 사용하는 단어 (GPU 네트워크로 연결)\n",
        "  x = tf.compat.v1.placeholder(tf.float32)  # 데이터를 받는 장소(구역)\n",
        "  y = tf.square(x)\n",
        "  z = tf.add(x, y)  # run은, 가장 마지막 node를 호출하면 연결된 모든 노드를 계산하여 결과를 출력한다.\n",
        "  z0 = sess.run([z], feed_dict = {x: 2.})  # 데이터를 피딩 (feeding)\n",
        "  z1 = sess.run([z], feed_dict = {x: 2., y: 2.})  # {y: 2.} : y값 제곱을 고정시킴\n",
        "print('z0 : {},\\nz1 : {}'.format(z0, z1))"
      ],
      "metadata": {
        "colab": {
          "base_uri": "https://localhost:8080/"
        },
        "id": "EEUXbPXytm5d",
        "outputId": "978771a2-ada5-43de-dcb9-e6046f1d7e8f"
      },
      "execution_count": 13,
      "outputs": [
        {
          "output_type": "stream",
          "name": "stdout",
          "text": [
            "z0 : [6.0],\n",
            "z1 : [4.0]\n"
          ]
        }
      ]
    },
    {
      "cell_type": "code",
      "source": [
        "# tensorflow 2.0에서 function base로 전환 : dynamic mode / eager mode\n",
        "  # numpy, scikits 등 좋은 기능들을 다 취합하였다.\n",
        "# function base programming으로 전환\n",
        "import tensorflow as tf\n",
        "def add(x, y):\n",
        "  return x + y\n",
        "@tf.function  # @ 장식자 최적화 : 미리 컴파일한다. (속도 향상)\n",
        "def compute_z1(x, y):\n",
        "  return add(x, y)\n",
        "@tf.function\n",
        "def compute_z0(x):\n",
        "  return tf.add(x, tf.square(x))\n",
        "z0 = compute_z0(2.)\n",
        "z1 = compute_z1(2., 2.)\n",
        "print('z0 : {},\\nz1 : {}'.format(z0, z1))"
      ],
      "metadata": {
        "colab": {
          "base_uri": "https://localhost:8080/"
        },
        "id": "AtOQxYoVxc4B",
        "outputId": "47150e83-d79b-4752-9378-41ef6b8b8fb4"
      },
      "execution_count": 14,
      "outputs": [
        {
          "output_type": "stream",
          "name": "stdout",
          "text": [
            "z0 : 6.0,\n",
            "z1 : 4.0\n"
          ]
        }
      ]
    }
  ]
}