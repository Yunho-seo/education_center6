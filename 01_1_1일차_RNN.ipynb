{
  "nbformat": 4,
  "nbformat_minor": 0,
  "metadata": {
    "colab": {
      "provenance": [],
      "gpuType": "T4",
      "mount_file_id": "19xxMxY71ot43z0R7u9UQKkJc9yW3t991",
      "authorship_tag": "ABX9TyOG0M29arZDUDbV5g7kxUYE",
      "include_colab_link": true
    },
    "kernelspec": {
      "name": "python3",
      "display_name": "Python 3"
    },
    "language_info": {
      "name": "python"
    },
    "accelerator": "GPU"
  },
  "cells": [
    {
      "cell_type": "markdown",
      "metadata": {
        "id": "view-in-github",
        "colab_type": "text"
      },
      "source": [
        "<a href=\"https://colab.research.google.com/github/Yunho-seo/education_center6/blob/main/01_1_1%EC%9D%BC%EC%B0%A8_RNN.ipynb\" target=\"_parent\"><img src=\"https://colab.research.google.com/assets/colab-badge.svg\" alt=\"Open In Colab\"/></a>"
      ]
    },
    {
      "cell_type": "code",
      "source": [
        "import numpy\n",
        "import matplotlib.pyplot as plt\n",
        "import pandas\n",
        "import math\n",
        "from tensorflow.keras.models import Sequential\n",
        "from tensorflow.keras.layers import Dense\n",
        "numpy.random.seed(7)\n",
        "dataframe = pandas.read_csv('/content/drive/MyDrive/passengers.csv',  # 파일 로드\n",
        "                            usecols = [1], engine = 'python', skipfooter = 3)  # 두번째 열만 사용, python 엔진, 파일 끝 3개 행 건너뛰기\n",
        "dataset = dataframe.values  # 데이터프레임을 numpy 배열로 변환\n",
        "dataset = dataset.astype('float32')  # 타입 변환\n",
        "train_size = int(len(dataset) * 0.67)  # 전체 데이터셋의 67% 학습 데이터, 나머지 33%은 테스트 -> len(), 슬라이싱으로 분해\n",
        "                                       # 시계열 데이터는 랜덤으로 처리할 수 없다.\n",
        "test_size = len(dataset) - train_size\n",
        "train, test = dataset[0:train_size, :], dataset[train_size:len(dataset), :]\n",
        "print(len(train), len(test))  # 96 48\n",
        "train[:10]"
      ],
      "metadata": {
        "colab": {
          "base_uri": "https://localhost:8080/"
        },
        "id": "OLCMfKKWLUsS",
        "outputId": "effc4076-a17c-4f30-e8b0-75917fb59d45"
      },
      "execution_count": 22,
      "outputs": [
        {
          "output_type": "stream",
          "name": "stdout",
          "text": [
            "96 48\n"
          ]
        },
        {
          "output_type": "execute_result",
          "data": {
            "text/plain": [
              "array([[112.],\n",
              "       [118.],\n",
              "       [132.],\n",
              "       [129.],\n",
              "       [121.],\n",
              "       [135.],\n",
              "       [148.],\n",
              "       [148.],\n",
              "       [136.],\n",
              "       [119.]], dtype=float32)"
            ]
          },
          "metadata": {},
          "execution_count": 22
        }
      ]
    },
    {
      "cell_type": "code",
      "source": [
        "# window size (데이터를 보는 사이즈 : 다음 데이터에 영향을 미치는 기수)\n",
        "def create_dataset(dataset, look_back = 1):  # look_back : 시간 간격\n",
        "  dataX, dataY = [], []\n",
        "  for i in range(len(dataset) - look_back - 1):  # dataset에서 look_back과 1을 뺀 값만큼 반복 (데이터셋 생성 범위)\n",
        "    a = dataset[i:(i + look_back), 0]  # look_back 시간 간격에 대한 입력 데이터\n",
        "    dataX.append(a)\n",
        "    dataY.append(dataset[i + look_back, 0])  # 시간 간격 이후의 출력 데이터\n",
        "  return numpy.array(dataX), numpy.array(dataY)\n",
        "look_back = 2\n",
        "trainX, trainY = create_dataset(train, look_back)\n",
        "testX, testY = create_dataset(test, look_back)"
      ],
      "metadata": {
        "id": "eFJ0aevvMXLa"
      },
      "execution_count": 23,
      "outputs": []
    },
    {
      "cell_type": "code",
      "source": [
        "model = Sequential()\n",
        "# 입력 레이어와 hidden 레이어를 추가한다.\n",
        "# Dense : fully connected 레이어, 8개의 히든 레이어 뉴런수\n",
        "model.add(Dense(8, input_dim = look_back, activation = 'relu'))  # 2x8 가중치 + bias\n",
        "model.add(Dense(1))  # 단일뉴런, 8x1 가중치\n",
        "model.compile(loss = 'mean_squared_error', optimizer = 'adam')  # 손실 함수 : 평균 제곱 오차, Adam 옵티마이저\n",
        "model.fit(trainX, trainY, epochs = 200, batch_size = 2, verbose = 2)  # 입출력 데이터를 학습(모델)\n",
        "\n",
        "trainScore = model.evaluate(trainX, trainY, verbose = 0)  # 학습 데이터의 모델 성능 평가\n",
        "print('Train Score: %.2f MSE (%.2f RMSE)' % (trainScore, math.sqrt(trainScore)))\n",
        "testScore = model.evaluate(testX, testY, verbose = 0)  # 테스트 데이터의 모델 성능 평가\n",
        "print('Test Score: %.2f MSE (%.2f RMSE)' % (testScore, math.sqrt(testScore)))\n",
        "\n",
        "# Train Score: 757.65 MSE (27.53 RMSE)\n",
        "# Test Score: 3536.20 MSE (59.47 RMSE)"
      ],
      "metadata": {
        "id": "730f90TAMXvC"
      },
      "execution_count": null,
      "outputs": []
    },
    {
      "cell_type": "code",
      "source": [
        "# NLP (natural language)"
      ],
      "metadata": {
        "id": "WZ3qMrYHMXxB"
      },
      "execution_count": 7,
      "outputs": []
    },
    {
      "cell_type": "code",
      "source": [
        "from numpy import array\n",
        "from tensorflow.keras.preprocessing.text import Tokenizer\n",
        "from tensorflow.keras.preprocessing.sequence import pad_sequences\n",
        "from tensorflow.keras.models import Sequential\n",
        "from tensorflow.keras.layers import Dense, Flatten, Embedding\n",
        "from tensorflow.keras.preprocessing.text import text_to_word_sequence\n",
        "text = '해보지 않으면 해낼 수 없다'\n",
        "result = text_to_word_sequence(text)\n",
        "print('\\n원문:\\n', text)\n",
        "print('\\n토큰화:\\n', result)"
      ],
      "metadata": {
        "colab": {
          "base_uri": "https://localhost:8080/"
        },
        "id": "L4SlFrD0MXzB",
        "outputId": "7670e426-b171-4b2e-a896-21db28b3acc1"
      },
      "execution_count": 25,
      "outputs": [
        {
          "output_type": "stream",
          "name": "stdout",
          "text": [
            "\n",
            "원문:\n",
            " 해보지 않으면 해낼 수 없다\n",
            "\n",
            "토큰화:\n",
            " ['해보지', '않으면', '해낼', '수', '없다']\n"
          ]
        }
      ]
    },
    {
      "cell_type": "code",
      "source": [
        "docs = ['먼저 텍스트의 각 단어를 나누어 토큰화 합니다.',\n",
        "        '텍스트의 단어로 토큰화 해야 딥러닝에서 인식됩니다.',\n",
        "        '토큰화 한 결과는 딥러닝에서 사용할 수 있습니다.',\n",
        "        ]\n",
        "token = Tokenizer()  # 토큰 데이터 인스턴스\n",
        "token.fit_on_texts(docs)\n",
        "print('\\n단어 카운트:\\n', token.word_counts)  # 단어별 개수\n",
        "print('\\n문장 카운트:', token.document_count)  # 문장의 개수\n",
        "print('\\n각 단어가 몇개의 문장에 포함되어 있는가:', token.word_docs)  # 단어가 문장에 들어있는가?\n",
        "print('\\n각 단어에 매겨진 인덱스 값:\\n', token.word_index)  # 17개의 단어 -> 인덱스\n",
        "# 이미지, 텍스트, 사운드 => 신경망에서는 수자화 되어야 한다.\n",
        "# 텍스트 모델이 예측을 한다면, 결과는 숫자로 예측한다."
      ],
      "metadata": {
        "colab": {
          "base_uri": "https://localhost:8080/"
        },
        "id": "1qrY3GcAMX0x",
        "outputId": "60714cd2-d3e8-49b9-a3b2-6ca109aca985"
      },
      "execution_count": 26,
      "outputs": [
        {
          "output_type": "stream",
          "name": "stdout",
          "text": [
            "\n",
            "단어 카운트:\n",
            " OrderedDict([('먼저', 1), ('텍스트의', 2), ('각', 1), ('단어를', 1), ('나누어', 1), ('토큰화', 3), ('합니다', 1), ('단어로', 1), ('해야', 1), ('딥러닝에서', 2), ('인식됩니다', 1), ('한', 1), ('결과는', 1), ('사용할', 1), ('수', 1), ('있습니다', 1)])\n",
            "\n",
            "문장 카운트: 3\n",
            "\n",
            "각 단어가 몇개의 문장에 포함되어 있는가: defaultdict(<class 'int'>, {'텍스트의': 2, '나누어': 1, '먼저': 1, '각': 1, '합니다': 1, '토큰화': 3, '단어를': 1, '딥러닝에서': 2, '해야': 1, '인식됩니다': 1, '단어로': 1, '수': 1, '있습니다': 1, '사용할': 1, '결과는': 1, '한': 1})\n",
            "\n",
            "각 단어에 매겨진 인덱스 값:\n",
            " {'토큰화': 1, '텍스트의': 2, '딥러닝에서': 3, '먼저': 4, '각': 5, '단어를': 6, '나누어': 7, '합니다': 8, '단어로': 9, '해야': 10, '인식됩니다': 11, '한': 12, '결과는': 13, '사용할': 14, '수': 15, '있습니다': 16}\n"
          ]
        }
      ]
    },
    {
      "cell_type": "code",
      "source": [
        "# 영화 평 : 100,000개\n",
        "docs = ['너무 재밌네요', '최고예요', '참 잘 만는 영화예요', '추천하고 싶은 영화입니다.',\n",
        "        '한번 더 보고싶네요', '글쎄요', '별로예요', '생각보다 지루하네요',\n",
        "        '연기가 어색해요', '재미없어요']\n",
        "classes = array([1, 1, 1, 1, 1, 0, 0, 0, 0, 0])  # 긍정 5, 부정 5\n",
        "token = Tokenizer()\n",
        "token.fit_on_texts(docs)\n",
        "print(token.word_index)\n",
        "\n",
        "x = token.texts_to_sequences(docs)  # 문장을 -> 시퀀스(sequences)로 변경한다. (인덱스 번호를 사용)\n",
        "print('\\n리뷰 텍스트, 토큰화 결과:\\n', x)\n",
        "x_test = token.sequences_to_texts(x)  # 원문\n",
        "print('텍스트:\\n', x_test)\n",
        "padded_x = pad_sequences(x, 4)  # 신경망은 행렬곱연산 -> 사이즈가 동일해야 함\n",
        "                                # 시퀀스 데이터 패팅 : padded_x에 결과 저장. 시퀀스의 길이 : 4(패딩 뒤)\n",
        "print('\\n패딩 결과:\\n', padded_x)\n",
        "print('\\n딥러닝 모델 시작: ')\n",
        "word_size = len(token.word_index) + 1"
      ],
      "metadata": {
        "colab": {
          "base_uri": "https://localhost:8080/"
        },
        "id": "AvW9dHYiMX2p",
        "outputId": "697a36ec-0957-4777-96f2-b7b61827422d"
      },
      "execution_count": 27,
      "outputs": [
        {
          "output_type": "stream",
          "name": "stdout",
          "text": [
            "{'너무': 1, '재밌네요': 2, '최고예요': 3, '참': 4, '잘': 5, '만는': 6, '영화예요': 7, '추천하고': 8, '싶은': 9, '영화입니다': 10, '한번': 11, '더': 12, '보고싶네요': 13, '글쎄요': 14, '별로예요': 15, '생각보다': 16, '지루하네요': 17, '연기가': 18, '어색해요': 19, '재미없어요': 20}\n",
            "\n",
            "리뷰 텍스트, 토큰화 결과:\n",
            " [[1, 2], [3], [4, 5, 6, 7], [8, 9, 10], [11, 12, 13], [14], [15], [16, 17], [18, 19], [20]]\n",
            "텍스트:\n",
            " ['너무 재밌네요', '최고예요', '참 잘 만는 영화예요', '추천하고 싶은 영화입니다', '한번 더 보고싶네요', '글쎄요', '별로예요', '생각보다 지루하네요', '연기가 어색해요', '재미없어요']\n",
            "\n",
            "패딩 결과:\n",
            " [[ 0  0  1  2]\n",
            " [ 0  0  0  3]\n",
            " [ 4  5  6  7]\n",
            " [ 0  8  9 10]\n",
            " [ 0 11 12 13]\n",
            " [ 0  0  0 14]\n",
            " [ 0  0  0 15]\n",
            " [ 0  0 16 17]\n",
            " [ 0  0 18 19]\n",
            " [ 0  0  0 20]]\n",
            "\n",
            "딥러닝 모델 시작: \n"
          ]
        }
      ]
    },
    {
      "cell_type": "code",
      "source": [
        "# 단어 임베딩을 포함하여 딥러닝 모델을 만들고 결과를 출력\n",
        "model = Sequential()\n",
        "# text는 one-hot encoding 가능\n",
        "# 21인 경우, 21차 / 0, 0, 0, 0, 0, 0, 0, 0, 0, 0, 0, 0, 0, 0, 0, 0, 0, 0, 0, 0, 0, 0\n",
        "# 0, 0, 1, 0, 0, 0, 0, 0, 0, 0, 0, 0, 0, 0, 0, 0, 0, 0, 0, 0, 0, 0\n",
        "# 희소행렬 / sparse 행렬로 표현 => 학습결과 좋지 못함\n",
        "model.add(Embedding(word_size, 8 ,input_length=4)) # 8개의 자리수(벡터)로 바꾸기 / embedding() : 두 단어의 관계성 파악하기\n",
        "# 고차원을 저차원으로 차원축소\n",
        "# 밀집 행렬로 재표현\n",
        "\n",
        "model.add(Flatten())  # 다차원 임베딩 벡터를 평탄화\n",
        "model.add(Dense(1,activation='sigmoid'))  # 출력 레이어 추가\n",
        "model.compile(optimizer='adam',loss='binary_crossentropy',metrics =['accuracy'])\n",
        "model.fit(padded_x, classes, epochs=20)  # 입력데이터 padded_x, 레이블 classes, 학습반복횟수 epochs\n",
        "print('\\n Accuracy: %.4f' % (model.evaluate(padded_x,classes)[1])) # 모델의 정확도 평가하고 출력 / 90% 정확도 "
      ],
      "metadata": {
        "colab": {
          "base_uri": "https://localhost:8080/"
        },
        "id": "MX1J47mwMX6J",
        "outputId": "8baaa279-7aa6-4b83-b424-b4d739e2338d"
      },
      "execution_count": 28,
      "outputs": [
        {
          "output_type": "stream",
          "name": "stdout",
          "text": [
            "Epoch 1/20\n",
            "1/1 [==============================] - 1s 1s/step - loss: 0.6858 - accuracy: 0.6000\n",
            "Epoch 2/20\n",
            "1/1 [==============================] - 0s 14ms/step - loss: 0.6833 - accuracy: 0.6000\n",
            "Epoch 3/20\n",
            "1/1 [==============================] - 0s 19ms/step - loss: 0.6808 - accuracy: 0.6000\n",
            "Epoch 4/20\n",
            "1/1 [==============================] - 0s 13ms/step - loss: 0.6783 - accuracy: 0.7000\n",
            "Epoch 5/20\n",
            "1/1 [==============================] - 0s 10ms/step - loss: 0.6758 - accuracy: 0.9000\n",
            "Epoch 6/20\n",
            "1/1 [==============================] - 0s 10ms/step - loss: 0.6733 - accuracy: 0.9000\n",
            "Epoch 7/20\n",
            "1/1 [==============================] - 0s 10ms/step - loss: 0.6708 - accuracy: 0.9000\n",
            "Epoch 8/20\n",
            "1/1 [==============================] - 0s 10ms/step - loss: 0.6684 - accuracy: 0.9000\n",
            "Epoch 9/20\n",
            "1/1 [==============================] - 0s 10ms/step - loss: 0.6659 - accuracy: 0.9000\n",
            "Epoch 10/20\n",
            "1/1 [==============================] - 0s 11ms/step - loss: 0.6634 - accuracy: 0.9000\n",
            "Epoch 11/20\n",
            "1/1 [==============================] - 0s 10ms/step - loss: 0.6610 - accuracy: 0.9000\n",
            "Epoch 12/20\n",
            "1/1 [==============================] - 0s 13ms/step - loss: 0.6585 - accuracy: 0.9000\n",
            "Epoch 13/20\n",
            "1/1 [==============================] - 0s 10ms/step - loss: 0.6560 - accuracy: 0.9000\n",
            "Epoch 14/20\n",
            "1/1 [==============================] - 0s 11ms/step - loss: 0.6535 - accuracy: 0.9000\n",
            "Epoch 15/20\n",
            "1/1 [==============================] - 0s 13ms/step - loss: 0.6511 - accuracy: 0.9000\n",
            "Epoch 16/20\n",
            "1/1 [==============================] - 0s 10ms/step - loss: 0.6486 - accuracy: 0.9000\n",
            "Epoch 17/20\n",
            "1/1 [==============================] - 0s 12ms/step - loss: 0.6461 - accuracy: 0.9000\n",
            "Epoch 18/20\n",
            "1/1 [==============================] - 0s 11ms/step - loss: 0.6436 - accuracy: 0.9000\n",
            "Epoch 19/20\n",
            "1/1 [==============================] - 0s 11ms/step - loss: 0.6411 - accuracy: 0.9000\n",
            "Epoch 20/20\n",
            "1/1 [==============================] - 0s 11ms/step - loss: 0.6386 - accuracy: 0.9000\n",
            "1/1 [==============================] - 0s 128ms/step - loss: 0.6361 - accuracy: 0.9000\n",
            "\n",
            " Accuracy: 0.9000\n"
          ]
        }
      ]
    },
    {
      "cell_type": "code",
      "source": [
        "# RNN"
      ],
      "metadata": {
        "id": "Zw0MmztgMX8E"
      },
      "execution_count": 12,
      "outputs": []
    },
    {
      "cell_type": "code",
      "source": [
        "import tensorflow as tf\n",
        "from tensorflow.keras.datasets import reuters  # reuters 뉴스 기사 데이터셋 로드\n",
        "from tensorflow.keras.layers import Dense, LSTM, Embedding\n",
        "from tensorflow.keras.preprocessing import sequence\n",
        "from tensorflow.keras.utils import to_categorical\n",
        "seed = 0\n",
        "numpy.random.seed(seed)\n",
        "tf.random.set_seed(3)\n",
        "# 뉴스 기사\n",
        "# 1000개의 단어만 사용하여, 뉴스 기사를 indexing (1000개 단어 넘는 기사는 미출력)\n",
        "# 원본 데이터가 아닌 mapping된 숫자만 제공\n",
        "# token.texts_to_sequences(docs)된 데이터를 제공한다.\n",
        "(X_train, Y_train), (X_test, Y_test) = reuters.load_data(num_words = 1000,  # 사용할 단어 최대개수 : 1000개\n",
        "                                                         test_split = 0.2)  # 테스트 데이터의 비율 (20%)\n",
        "category = numpy.max(Y_train) + 1  # 카테고리(클래스) 개수를 확인\n",
        "print(category, \"카테고리\")  # 경제, 정치, 문화 ..........\n",
        "print(len(X_train), '학습용 뉴스 기사')\n",
        "print(len(X_test), '테스트용 뉴스 기사')\n",
        "print(X_train[0])  # 첫번째 학습용 뉴스기사의 내용 확인 "
      ],
      "metadata": {
        "colab": {
          "base_uri": "https://localhost:8080/"
        },
        "id": "KYy0Z_IVMX9q",
        "outputId": "3d1db344-c730-4d00-c671-8196ab9a55a3"
      },
      "execution_count": 29,
      "outputs": [
        {
          "output_type": "stream",
          "name": "stdout",
          "text": [
            "46 카테고리\n",
            "8982 학습용 뉴스 기사\n",
            "2246 테스트용 뉴스 기사\n",
            "[1, 2, 2, 8, 43, 10, 447, 5, 25, 207, 270, 5, 2, 111, 16, 369, 186, 90, 67, 7, 89, 5, 19, 102, 6, 19, 124, 15, 90, 67, 84, 22, 482, 26, 7, 48, 4, 49, 8, 864, 39, 209, 154, 6, 151, 6, 83, 11, 15, 22, 155, 11, 15, 7, 48, 9, 2, 2, 504, 6, 258, 6, 272, 11, 15, 22, 134, 44, 11, 15, 16, 8, 197, 2, 90, 67, 52, 29, 209, 30, 32, 132, 6, 109, 15, 17, 12]\n"
          ]
        }
      ]
    },
    {
      "cell_type": "code",
      "source": [
        "# 단어의 숫자가 중요, 패딩이 중요하다. 단어의 인덱스로 재표현한다. (패딩 : 시퀀스 데이터 길이를 일정하게 하는 작업)\n",
        "# 100단어로 표현되는 기사 (100단어보다 많으면 삭제, 100단어보다 적으면 0으로 채운다(패딩))\n",
        "x_train = sequence.pad_sequences(X_train, maxlen = 100)\n",
        "x_test = sequence.pad_sequences(X_test, maxlen = 100)\n",
        "y_train = to_categorical(Y_train)  # y_train을 원-핫 인코딩한다 (각 클래스를 0 또는 1로 표현)\n",
        "y_test = to_categorical(Y_test)"
      ],
      "metadata": {
        "id": "PaMHDed0MX_h"
      },
      "execution_count": 30,
      "outputs": []
    },
    {
      "cell_type": "code",
      "source": [
        "model = Sequential()\n",
        "# 단어가 분류 -> 100사이즈의 벡터로 표현\n",
        "model.add(Embedding(1000, 100))  # 입력되는 100 사이즈 / 입력차원이 1000이고, 출력차원이 100인 임베딩 사용 (밀집 벡터로 임베딩)\n",
        "# LSTM망 -> 텍스트의 특징을 추출 (가중치를 이용 : 이전 텍스트를 고려한 특징)\n",
        "model.add(LSTM(100, activation = 'tanh'))  # 출력되는 100 사이즈 / LSTM 레이어 추가 (LSTM : 순환 신경망, 시퀀스 데이터 처리)\n",
        "# FFNN망\n",
        "model.add(Dense(46, activation = 'softmax'))  # 출력 레이어 추가 / 46개의 클래스(문서)(출력차원이 46), softmax()로 다중 클래스 분류"
      ],
      "metadata": {
        "id": "kTu9ohfkMYBZ"
      },
      "execution_count": 31,
      "outputs": []
    },
    {
      "cell_type": "code",
      "source": [
        "model.compile(loss = 'categorical_crossentropy',  # 손실 함수\n",
        "              optimizer = 'adam',  # 옵티마이저\n",
        "              metrics = ['accuracy'])  # 평가 지표 : Accuracy\n",
        "# 모델 학습 (학습 데이터로 x_train, y_train / 배치 크기는 100, 20번 반복학습)\n",
        "history = model.fit(x_train, y_train, batch_size = 100, epochs = 20, validation_data = (x_test, y_test))\n",
        "print('\\n Test Accuracy: %.4f' % (model.evaluate(x_test, y_test)[1]))  # 테스트 데이터에 대한 평가를 수행\n",
        "y_vloss = history.history['val_loss']\n",
        "y_loss = history.history['loss']\n",
        "x_len = numpy.arange(len(y_loss))\n",
        "plt.plot(x_len, y_vloss, marker='.', c='red', label = 'Testset_loss')\n",
        "plt.plot(x_len, y_loss, marker='.', c='blue', label = 'Trainset_loss')\n",
        "plt.legend(loc = 'upper right')\n",
        "plt.grid()"
      ],
      "metadata": {
        "colab": {
          "base_uri": "https://localhost:8080/",
          "height": 1000
        },
        "id": "4u43A9aLMYDp",
        "outputId": "121c1eb0-e02e-4694-ea52-b53fafb7abdc"
      },
      "execution_count": 32,
      "outputs": [
        {
          "output_type": "stream",
          "name": "stdout",
          "text": [
            "Epoch 1/20\n",
            "90/90 [==============================] - 16s 141ms/step - loss: 2.5948 - accuracy: 0.3674 - val_loss: 2.3119 - val_accuracy: 0.4764\n",
            "Epoch 2/20\n",
            "90/90 [==============================] - 3s 36ms/step - loss: 2.1163 - accuracy: 0.4674 - val_loss: 2.0537 - val_accuracy: 0.5102\n",
            "Epoch 3/20\n",
            "90/90 [==============================] - 2s 26ms/step - loss: 1.9824 - accuracy: 0.5088 - val_loss: 1.8872 - val_accuracy: 0.5067\n",
            "Epoch 4/20\n",
            "90/90 [==============================] - 4s 40ms/step - loss: 1.7584 - accuracy: 0.5539 - val_loss: 1.6954 - val_accuracy: 0.5677\n",
            "Epoch 5/20\n",
            "90/90 [==============================] - 2s 22ms/step - loss: 1.6770 - accuracy: 0.5664 - val_loss: 1.7115 - val_accuracy: 0.5570\n",
            "Epoch 6/20\n",
            "90/90 [==============================] - 2s 21ms/step - loss: 1.5962 - accuracy: 0.5917 - val_loss: 1.6370 - val_accuracy: 0.5922\n",
            "Epoch 7/20\n",
            "90/90 [==============================] - 3s 37ms/step - loss: 1.5059 - accuracy: 0.6245 - val_loss: 1.6828 - val_accuracy: 0.5788\n",
            "Epoch 8/20\n",
            "90/90 [==============================] - 1s 12ms/step - loss: 1.5001 - accuracy: 0.6192 - val_loss: 1.5481 - val_accuracy: 0.6126\n",
            "Epoch 9/20\n",
            "90/90 [==============================] - 1s 14ms/step - loss: 1.3749 - accuracy: 0.6570 - val_loss: 1.4602 - val_accuracy: 0.6313\n",
            "Epoch 10/20\n",
            "90/90 [==============================] - 1s 11ms/step - loss: 1.2792 - accuracy: 0.6847 - val_loss: 1.3842 - val_accuracy: 0.6594\n",
            "Epoch 11/20\n",
            "90/90 [==============================] - 1s 15ms/step - loss: 1.2022 - accuracy: 0.6965 - val_loss: 1.3113 - val_accuracy: 0.6643\n",
            "Epoch 12/20\n",
            "90/90 [==============================] - 1s 16ms/step - loss: 1.1179 - accuracy: 0.7181 - val_loss: 1.2846 - val_accuracy: 0.6705\n",
            "Epoch 13/20\n",
            "90/90 [==============================] - 2s 18ms/step - loss: 1.0786 - accuracy: 0.7302 - val_loss: 1.2556 - val_accuracy: 0.6732\n",
            "Epoch 14/20\n",
            "90/90 [==============================] - 1s 9ms/step - loss: 1.0071 - accuracy: 0.7464 - val_loss: 1.2384 - val_accuracy: 0.6857\n",
            "Epoch 15/20\n",
            "90/90 [==============================] - 1s 9ms/step - loss: 0.9626 - accuracy: 0.7587 - val_loss: 1.2487 - val_accuracy: 0.6981\n",
            "Epoch 16/20\n",
            "90/90 [==============================] - 1s 11ms/step - loss: 0.9275 - accuracy: 0.7692 - val_loss: 1.2194 - val_accuracy: 0.6919\n",
            "Epoch 17/20\n",
            "90/90 [==============================] - 1s 12ms/step - loss: 0.8842 - accuracy: 0.7842 - val_loss: 1.2270 - val_accuracy: 0.7044\n",
            "Epoch 18/20\n",
            "90/90 [==============================] - 1s 16ms/step - loss: 0.8602 - accuracy: 0.7872 - val_loss: 1.1719 - val_accuracy: 0.7110\n",
            "Epoch 19/20\n",
            "90/90 [==============================] - 1s 13ms/step - loss: 0.8094 - accuracy: 0.7961 - val_loss: 1.2085 - val_accuracy: 0.7053\n",
            "Epoch 20/20\n",
            "90/90 [==============================] - 1s 9ms/step - loss: 0.7652 - accuracy: 0.8104 - val_loss: 1.2117 - val_accuracy: 0.7119\n",
            "71/71 [==============================] - 0s 6ms/step - loss: 1.2117 - accuracy: 0.7119\n",
            "\n",
            " Test Accuracy: 0.7119\n"
          ]
        },
        {
          "output_type": "display_data",
          "data": {
            "text/plain": [
              "<Figure size 640x480 with 1 Axes>"
            ],
            "image/png": "[encoded data removed]"
          },
          "metadata": {}
        }
      ]
    },
    {
      "cell_type": "code",
      "source": [
        "from tensorflow.keras.datasets import imdb\n",
        "# Conv1D : Text에서 주변 데이터를 고려할 때에 사용\n",
        "# Conv3D : 동영상에서 특징을 추출할 때에 사용\n",
        "from tensorflow.keras.layers import Conv1D, MaxPooling1D, Dropout, Activation\n",
        "\n",
        "seed = 0\n",
        "numpy.random.seed(seed)\n",
        "tf.random.set_seed(3)\n",
        "# 전체 단어 수 : 5000개 (데이터셋에서 자주 등장하는 단어 개수를 5000개로 제한)\n",
        "(x_train, y_train), (x_test, y_test) = imdb.load_data(num_words = 5000)\n",
        "# 영화 평에 대한 문장의 단어수가 100개 \n",
        "# 패딩 / 모든 리뷰 데이터 길이를 100으로, 비어있으면 0으로 채운다.\n",
        "x_train = sequence.pad_sequences(x_train, maxlen = 100)\n",
        "x_test = sequence.pad_sequences(x_test, maxlen = 100)"
      ],
      "metadata": {
        "id": "lNTS1ADvMYHh"
      },
      "execution_count": 33,
      "outputs": []
    },
    {
      "cell_type": "code",
      "source": [
        "# 하나의 영화평은 100개의 단어로 구성됨 (maxlen = 100)\n",
        "# 영화평은, 단어의 인덱스로 표현되어 있다 (위치로 학습하면 안된다.)\n",
        "# 단어로 재표현 (원-핫 인코딩) => 100 자리의 벡터로 임베딩\n",
        "model = Sequential()\n",
        "model.add(Embedding(5000, 100))  # 벡터로 변환 (5000x100)\n",
        "# 100개의 단어가 100개의 벡터로 변환되어서 입력된다. (100x100)\n",
        "model.add(Dropout(0.5))\n",
        "# convolution의 의미는, 이미지에서 주변값을 고려한 특징\n",
        "# 단어의 주변값을 고려한 특징이다.\n",
        "# 주변 5개의 단어를 고려한 값으로 재표현된다.\n",
        "# padding은 same, valid\n",
        "# 100 - 5 + 1 = 96으로 나간다, 64개의 필터\n",
        "# 5 * 64\n",
        "model.add(Conv1D(64, 5, padding = 'valid', activation = 'relu', strides = 1))  # 64개의 필터, 필터 크기는 5(5개)\n",
        "# 32064\n",
        "# 5 x 64 * 100 + 64\n",
        "# 100 x 100 => 출력 차수는 100 x 96\n",
        "model.add(MaxPooling1D(pool_size = 4))  # MaxPooling1D 레이어 / pooling window = 4\n",
        "model.add(LSTM(55))  # LSTM 레이어 / 나가는 특징의 사이즈 : 단어마다 셀(cell)이 필요 (셀 100개) / 55개의 뉴런을 가진 LSTM 셀을 사용한다.\n",
        "# 한 셀에 (55x4) 행렬이 필요함. (가중치가 4개 필요)\n",
        "# 맨 마지막에 나가는 것은, 100개에서 특징을 잡아 마지막 한 개가 출력하는 hidden layer의 값이 출력된다.\n",
        "# 마지막 차수는 55\n",
        "# 55 x 1 + 1(bias)\n",
        "model.add(Dense(1))  # 마지막에 긍정(pos), 부정(neg)을 판별 / 출력 뉴런의 개수를 1로 설정\n",
        "model.add(Activation('sigmoid'))  # 출력을 0과 1 사이 확률로 변환하여 이진분류 수행\n",
        "model.summary()\n",
        "model.compile(loss = 'binary_crossentropy', optimizer = 'adam', metrics=['accuracy'])"
      ],
      "metadata": {
        "colab": {
          "base_uri": "https://localhost:8080/"
        },
        "id": "rwNVQ6YoMYJp",
        "outputId": "19fa1a33-b4e2-4b1a-9e4a-4e9beae88a51"
      },
      "execution_count": 34,
      "outputs": [
        {
          "output_type": "stream",
          "name": "stdout",
          "text": [
            "Model: \"sequential_3\"\n",
            "_________________________________________________________________\n",
            " Layer (type)                Output Shape              Param #   \n",
            "=================================================================\n",
            " embedding_2 (Embedding)     (None, None, 100)         500000    \n",
            "                                                                 \n",
            " dropout (Dropout)           (None, None, 100)         0         \n",
            "                                                                 \n",
            " conv1d (Conv1D)             (None, None, 64)          32064     \n",
            "                                                                 \n",
            " max_pooling1d (MaxPooling1D  (None, None, 64)         0         \n",
            " )                                                               \n",
            "                                                                 \n",
            " lstm_1 (LSTM)               (None, 55)                26400     \n",
            "                                                                 \n",
            " dense_4 (Dense)             (None, 1)                 56        \n",
            "                                                                 \n",
            " activation (Activation)     (None, 1)                 0         \n",
            "                                                                 \n",
            "=================================================================\n",
            "Total params: 558,520\n",
            "Trainable params: 558,520\n",
            "Non-trainable params: 0\n",
            "_________________________________________________________________\n"
          ]
        }
      ]
    },
    {
      "cell_type": "code",
      "source": [
        "history = model.fit(x_train, y_train, batch_size = 100, epochs = 5,  # 100개의 문서(batch_size, 영화평), 5번 반복학습\n",
        "                    validation_data = (x_test, y_test))  # 각 에포크마다 모델의 성능을 평가\n",
        "print('\\n Test Accuracy: %.4f' % (model.evaluate(x_test, y_test)[1]))  # 0.8540 정확도 / 감성 분석\n",
        "y_vloss = history.history['val_loss']  # 검증 데이터 손실값\n",
        "y_loss = history.history['loss']  # 학습 데이터 손실값\n",
        "x_len = numpy.arange(len(y_loss))\n",
        "plt.plot(x_len, y_vloss, marker='.', c='red', label='Testset_loss')   # 빨간색 : 테스트 데이터(검증 데이터) 손실값\n",
        "plt.plot(x_len, y_loss, marker='.', c='blue', label='Trainset_loss')  # 파란색 : 학습 데이터 손실값\n",
        "plt.legend(loc = 'upper right')\n",
        "plt.grid()\n",
        "plt.xlabel('epoch')\n",
        "plt.ylabel('loss')\n",
        "plt.show()"
      ],
      "metadata": {
        "colab": {
          "base_uri": "https://localhost:8080/",
          "height": 688
        },
        "id": "I8FOx39iMYLx",
        "outputId": "0e29fd35-f6c1-48cf-e83c-5150cc20272f"
      },
      "execution_count": 35,
      "outputs": [
        {
          "output_type": "stream",
          "name": "stdout",
          "text": [
            "Epoch 1/5\n",
            "250/250 [==============================] - 38s 125ms/step - loss: 0.4550 - accuracy: 0.7664 - val_loss: 0.3694 - val_accuracy: 0.8394\n",
            "Epoch 2/5\n",
            "250/250 [==============================] - 11s 43ms/step - loss: 0.2974 - accuracy: 0.8749 - val_loss: 0.3335 - val_accuracy: 0.8558\n",
            "Epoch 3/5\n",
            "250/250 [==============================] - 6s 24ms/step - loss: 0.2532 - accuracy: 0.8966 - val_loss: 0.3271 - val_accuracy: 0.8577\n",
            "Epoch 4/5\n",
            "250/250 [==============================] - 5s 18ms/step - loss: 0.2142 - accuracy: 0.9146 - val_loss: 0.3295 - val_accuracy: 0.8544\n",
            "Epoch 5/5\n",
            "250/250 [==============================] - 4s 16ms/step - loss: 0.1770 - accuracy: 0.9330 - val_loss: 0.3700 - val_accuracy: 0.8495\n",
            "782/782 [==============================] - 3s 3ms/step - loss: 0.3700 - accuracy: 0.8495\n",
            "\n",
            " Test Accuracy: 0.8495\n"
          ]
        },
        {
          "output_type": "display_data",
          "data": {
            "text/plain": [
              "<Figure size 640x480 with 1 Axes>"
            ],
            "image/png": "[encoded data removed]"
          },
          "metadata": {}
        }
      ]
    },
    {
      "cell_type": "code",
      "source": [
        "print(type(x_train))  # 학습 데이터의 데이터타입\n",
        "print(x_train.shape)  # 차원수 (25000, 100) : 25000개의 리뷰와, 리뷰 길이는 100\n",
        "print(x_train[20001])  # 인덱스 20001번에 해당하는 리뷰\n",
        "print(type(x_train[20000]))  # 인덱스 20000번에 해당하는 리뷰의 타입 출력\n",
        "print(y_train[1])  # y_train 변수에서 인덱스 1번에 해당하는 레이블 값 출력 (positive or negative)\n",
        "# dictionary\n",
        "dictionary = imdb.get_word_index(path = 'imdb_word_index.json')  # IMDB 영화리뷰 데이터셋에 대한 단어 인덱스 사전\n",
        "type(dictionary)\n",
        "print(len(dictionary))  # 사전의 크기, 88584\n",
        "imdb_key = dictionary.keys()  # 사전의 키 값을 가져온다 (imdb 데이터셋에 등장하는 단어들)\n",
        "print(type(imdb_key))\n",
        "\n",
        "keytotal = list(imdb_key)  # 사전의 키 값을 리스트로 변환\n",
        "sentance = []\n",
        "for x, num in enumerate(x_train[1]):  # 영화평 / x_train[1]에서 각 단어의 인덱스와 해당 인덱스 값을 가져옴\n",
        "  res = keytotal[x]  # 인덱스에 해당하는 단어를 가져옴\n",
        "  sentance.append(res)  \n",
        "print(sentance)"
      ],
      "metadata": {
        "colab": {
          "base_uri": "https://localhost:8080/"
        },
        "id": "fJJMPtwTMYN5",
        "outputId": "f6dc9b7c-2010-4294-e21a-b5f6a7342fc6"
      },
      "execution_count": 36,
      "outputs": [
        {
          "output_type": "stream",
          "name": "stdout",
          "text": [
            "<class 'numpy.ndarray'>\n",
            "(25000, 100)\n",
            "[  87   51  575   36   26  502    8   79  101  156    5 1507   36  181\n",
            "    4  118    7   68   58   21  820  910 1030    8    2  183   56   11\n",
            " 2716    7   68    2 4697   10   10  910   70 4146    4  118  927    4\n",
            "  118 1180    5  907   21  131   36    2  183   56   14   20    9  595\n",
            "    4  619  155    9   15   13 1781  910   11   68    2  127   24   60\n",
            "  124   54    6   20    9   52   42   78   10   10   12    9   64  688\n",
            "    8    4  676    7    4  156   15   13   70   60  202   12    6  342\n",
            "    7  158]\n",
            "<class 'numpy.ndarray'>\n",
            "0\n",
            "88584\n",
            "<class 'dict_keys'>\n",
            "['fawn', 'tsukino', 'nunnery', 'sonja', 'vani', 'woods', 'spiders', 'hanging', 'woody', 'trawling', \"hold's\", 'comically', 'localized', 'disobeying', \"'royale\", \"harpo's\", 'canet', 'aileen', 'acurately', \"diplomat's\", 'rickman', 'arranged', 'rumbustious', 'familiarness', \"spider'\", 'hahahah', \"wood'\", 'transvestism', \"hangin'\", 'bringing', 'seamier', 'wooded', 'bravora', 'grueling', 'wooden', 'wednesday', \"'prix\", 'altagracia', 'circuitry', 'crotch', 'busybody', \"tart'n'tangy\", 'burgade', 'thrace', \"tom's\", 'snuggles', 'francesco', 'complainers', 'templarios', '272', '273', 'zaniacs', '275', 'consenting', 'snuggled', 'inanimate', 'uality', 'bronte', 'errors', 'dialogs', \"yomada's\", \"madman's\", 'dialoge', 'usenet', 'videodrome', \"kid'\", 'pawed', \"'girlfriend'\", \"'pleasure\", \"'reloaded'\", \"kazakos'\", 'rocque', 'mailings', 'brainwashed', 'mcanally', \"tom''\", 'kurupt', 'affiliated', 'babaganoosh', \"noe's\", 'quart', 'kids', 'uplifting', 'controversy', 'kida', 'kidd', \"error'\", 'neurologist', 'spotty', 'cobblers', 'projection', 'fastforwarding', 'sters', \"eggar's\", 'etherything', 'gateshead', 'airball', 'unsinkable', 'stern', \"cervi's\"]\n"
          ]
        }
      ]
    },
    {
      "cell_type": "code",
      "source": [
        "from tensorflow import keras\n",
        "imdb = keras.datasets.imdb  # imdb 데이터셋\n",
        "# imdb 데이터셋에서 학습 데이터와 테스트 데이터를 로드\n",
        "# 자주 등장하는 상위 10000개 단어만 사용하도록 설정 (데이터셋 단어는 10000개로 제한)\n",
        "(train_data, train_labels), (test_data, test_labels) = imdb.load_data(\n",
        "    num_words = 10000)"
      ],
      "metadata": {
        "id": "A6tN7ZZGMYQK"
      },
      "execution_count": 37,
      "outputs": []
    },
    {
      "cell_type": "code",
      "source": [
        "from tensorflow.keras.datasets import imdb\n",
        "word_index = imdb.get_word_index()  # imdb 데이터셋의 단어 인덱스 가져오기\n",
        "word_index = {k:(v + 3) for k, v in word_index.items()}  # 단어 인덱스 수정\n",
        "# 기존의 인덱스 값에 3을 더하여 새 인덱스를 만들기 (이때 0, 1, 2, 3은 특별한 용도 -> 실제 단어들의 인덱스는 4부터 시작)\n",
        "word_index[\"<PAD>\"] = 0    # padding\n",
        "word_index[\"<START>\"] = 1  # start\n",
        "word_index[\"<UNK>\"] = 2    # unknown\n",
        "word_index[\"<UNUSED>\"] = 3\n",
        "reverse_word_index = dict([(value, key) for (key, value) in word_index.items()])  # 단어 인덱스와 단어 매핑 dict\n",
        "# 주어진 텍스트를 디코딩하여 원래의 리뷰 텍스트로 반환하는 함수이다.\n",
        "# 텍스트 리스트에서 각각의 인덱스를 찾아 해당하는 단어로 변환하고 공백으로 구분하여 문자열로 반환\n",
        "def decode_review(text):\n",
        "  return ' '.join([reverse_word_index.get(i, '?') for i in text])"
      ],
      "metadata": {
        "id": "G3CDduudMYSB"
      },
      "execution_count": 38,
      "outputs": []
    },
    {
      "cell_type": "code",
      "source": [
        "decode_review(train_data[0])"
      ],
      "metadata": {
        "colab": {
          "base_uri": "https://localhost:8080/",
          "height": 164
        },
        "id": "_gst8AIrMYUC",
        "outputId": "010887ec-8206-4c79-d236-fd93ac0e9c6f"
      },
      "execution_count": 39,
      "outputs": [
        {
          "output_type": "execute_result",
          "data": {
            "text/plain": [
              "\"<START> this film was just brilliant casting location scenery story direction everyone's really suited the part they played and you could just imagine being there robert <UNK> is an amazing actor and now the same being director <UNK> father came from the same scottish island as myself so i loved the fact there was a real connection with this film the witty remarks throughout the film were great it was just brilliant so much that i bought the film as soon as it was released for <UNK> and would recommend it to everyone to watch and the fly fishing was amazing really cried at the end it was so sad and you know what they say if you cry at a film it must have been good and this definitely was also <UNK> to the two little boy's that played the <UNK> of norman and paul they were just brilliant children are often left out of the <UNK> list i think because the stars that play them all grown up are such a big profile for the whole film but these children are amazing and should be praised for what they have done don't you think the whole story was so lovely because it was true and was someone's life after all that was shared with us all\""
            ],
            "application/vnd.google.colaboratory.intrinsic+json": {
              "type": "string"
            }
          },
          "metadata": {},
          "execution_count": 39
        }
      ]
    },
    {
      "cell_type": "code",
      "source": [
        "# keras.preprocessing.sequence.pad_sequences() : 패딩 작업을 수행 (동일한 길이로 패딩을 추가)\n",
        "# train_data와 test_data는 모두 같은 길이의 데이터로 패딩된 상태이다. <PAD> 토큰으로 길이를 맞춤.\n",
        "train_data = keras.preprocessing.sequence.pad_sequences(train_data,\n",
        "                                                        value = word_index[\"<PAD>\"],  # 패딩에 사용할 값\n",
        "                                                        padding = 'post',  # 패딩을 시퀀스 끝에 추가\n",
        "                                                        maxlen = 256)  # 패딩 수행 후 시퀀스의 최대길이\n",
        "test_data = keras.preprocessing.sequence.pad_sequences(test_data,\n",
        "                                                       value = word_index[\"<PAD>\"],\n",
        "                                                       padding = 'post',\n",
        "                                                       maxlen = 256)"
      ],
      "metadata": {
        "id": "3-tfr75mMYWJ"
      },
      "execution_count": 40,
      "outputs": []
    },
    {
      "cell_type": "code",
      "source": [
        "vocab_size = 10000  # 단어집합의 크기\n",
        "model = keras.Sequential()\n",
        "model.add(keras.layers.Embedding(vocab_size, 16, input_shape=(None,)))  # 16차원, 가변길이 시퀀스 받음\n",
        "# 차원축소\n",
        "# model.add(keras.layers.GlobalAveragePooling1D())  # conv에서 사용하던 풀링을 데이터 누출 없는 차원 축소 용도\n",
        "# \n",
        "model.add(tf.keras.layers.Bidirectional(tf.keras.layers.LSTM(16))),  # 이중으로 특징을 추출 (열방향, 행방향)\n",
        "model.add(keras.layers.Dense(16, activation='relu'))  # 16개의 뉴런 (hidden layer)\n",
        "model.add(keras.layers.Dense(1, activation='sigmoid'))  # 이진 분류를 위한 출력 레이어 (긍정, 부정 리뷰 예측)\n",
        "model.summary()  # 모델의 구조를 요약하여 출력"
      ],
      "metadata": {
        "colab": {
          "base_uri": "https://localhost:8080/"
        },
        "id": "7LZRjppqMYXh",
        "outputId": "301ce85b-8c34-4238-805e-4600e5ca4db5"
      },
      "execution_count": 41,
      "outputs": [
        {
          "output_type": "stream",
          "name": "stdout",
          "text": [
            "Model: \"sequential_4\"\n",
            "_________________________________________________________________\n",
            " Layer (type)                Output Shape              Param #   \n",
            "=================================================================\n",
            " embedding_3 (Embedding)     (None, None, 16)          160000    \n",
            "                                                                 \n",
            " bidirectional (Bidirectiona  (None, 32)               4224      \n",
            " l)                                                              \n",
            "                                                                 \n",
            " dense_5 (Dense)             (None, 16)                528       \n",
            "                                                                 \n",
            " dense_6 (Dense)             (None, 1)                 17        \n",
            "                                                                 \n",
            "=================================================================\n",
            "Total params: 164,769\n",
            "Trainable params: 164,769\n",
            "Non-trainable params: 0\n",
            "_________________________________________________________________\n"
          ]
        }
      ]
    },
    {
      "cell_type": "code",
      "source": [
        "# attention(RNN + attention 관계성 망) / self-attention (RNN을 제거하고, 자체 attention)\n",
        "# BahdanauAttention\n",
        "# image - captioning"
      ],
      "metadata": {
        "id": "vE_MP_iMMYZZ"
      },
      "execution_count": null,
      "outputs": []
    },
    {
      "cell_type": "code",
      "source": [
        "import tensorflow as tf\n",
        "from sklearn.model_selection import train_test_split\n",
        "from sklearn.utils import shuffle\n",
        "import re\n",
        "import numpy as np\n",
        "import os\n",
        "import time\n",
        "import json\n",
        "from glob import glob\n",
        "from PIL import Image\n",
        "import pickle"
      ],
      "metadata": {
        "id": "RYoE62W5MYcx"
      },
      "execution_count": 2,
      "outputs": []
    },
    {
      "cell_type": "code",
      "source": [
        "# MS_COCO 데이터셋\n",
        "# 82,000장의 이미지 / 이미지 당 5개의 캡션(Text))이 있음.\n",
        "# image captioning (seq2seq 망을 사용)\n",
        "# attention망을 구축"
      ],
      "metadata": {
        "id": "M6xYQwfXBpAZ"
      },
      "execution_count": 4,
      "outputs": []
    },
    {
      "cell_type": "code",
      "source": [
        "# 주석 데이터\n",
        "annotation_folder = '/annotations/'\n",
        "if not os.path.exists(os.path.abspath('.') + annotation_folder):\n",
        "  annotation_zip = tf.keras.utils.get_file('captions.zip',\n",
        "      cache_subdir = os.path.abspath('.'),\n",
        "      origin = 'http://images.cocodataset.org/annotations/annotations_trainval2014.zip',\n",
        "      extract = True)\n",
        "  annotation_file = os.path.dirname(annotation_zip) + '/annotations/captions_train2014.json'\n",
        "  os.remove(annotation_zip)\n",
        "\n",
        "# Download image files (이미지 데이터)\n",
        "image_folder = '/train2014/'\n",
        "if not os.path.exists(os.path.abspath('.') + image_folder):\n",
        "  image_zip = tf.keras.utils.get_file('train2014.zip',\n",
        "                    cache_subdir = os.path.abspath('.'),\n",
        "                    origin = 'http://images.cocodataset.org/zips/train2014.zip',\n",
        "                    extract = True)\n",
        "  PATH = os.path.dirname(image_zip) + image_folder\n",
        "  os.remove(image_zip)\n",
        "else:\n",
        "  PATH = os.path.abspath('.') + image_folder"
      ],
      "metadata": {
        "colab": {
          "base_uri": "https://localhost:8080/"
        },
        "id": "MX_V5miQ_ZmZ",
        "outputId": "d2be8c06-76c3-4062-a951-73a3336d9a4c"
      },
      "execution_count": 3,
      "outputs": [
        {
          "output_type": "stream",
          "name": "stdout",
          "text": [
            "Downloading data from http://images.cocodataset.org/annotations/annotations_trainval2014.zip\n",
            "252872794/252872794 [==============================] - 21s 0us/step\n",
            "Downloading data from http://images.cocodataset.org/zips/train2014.zip\n",
            "13510573713/13510573713 [==============================] - 1025s 0us/step\n"
          ]
        }
      ]
    },
    {
      "cell_type": "code",
      "source": [
        "with open(annotation_file, 'r') as f:  # 주석(annotation) 데이터 읽어오기\n",
        "  annotations = json.load(f)\n",
        "all_captions = []  # 캡션\n",
        "all_img_name_vector = []  # 이미지 위치\n",
        "for annot in annotations['annotations']:\n",
        "  caption = '<start> ' + annot['caption'] + ' <end>'  # 시작 태그와 종료 태그를 추가하여 캡션 문자열 생성\n",
        "  # seq2seq = encoder + decoder\n",
        "  # 끝을 표시해야되는 이유는, 패딩을 해 놓아서 단어가 없을 수도 있기에.\n",
        "  # start를 넣어야 하는 이유는, encoder에서 마지막에 출력되는 state가 decoder의 첫번째 입력\n",
        "  image_id = annot['image_id']  # id를 파일 위치로 변경 / 이미지 파일의 전체 경로 생성\n",
        "  full_coco_image_path = PATH + 'COCO_train2014_' + '%012d.jpg' % (image_id)  # 이미지 파일 경로 형식\n",
        "  all_img_name_vector.append(full_coco_image_path)\n",
        "  all_captions.append(caption)\n",
        "train_captions, img_name_vector = shuffle(all_captions,  # 생성된 캡션과 이미지 파일 경로를 섞기(shuffle)\n",
        "                                          all_img_name_vector,\n",
        "                                          random_state = 1)\n",
        "num_examples = 30000  # 30000개 예시로 설정하고 그만큼 캡션과 이미지 파일경로를 선택\n",
        "train_captions = train_captions[:num_examples]\n",
        "img_name_vector = img_name_vector[:num_examples]"
      ],
      "metadata": {
        "id": "fPHjalb4_Zoh"
      },
      "execution_count": 4,
      "outputs": []
    },
    {
      "cell_type": "code",
      "source": [
        "# 이미지 로딩\n",
        "def load_image(image_path):\n",
        "  img = tf.io.read_file(image_path)  # 이미지 파일을 이진 데이터(binary)로 읽기\n",
        "  img = tf.image.decode_jpeg(img, channels = 3)  # jpeg 이미지 디코딩, 채널수 3(RGB)\n",
        "  img = tf.image.resize(img, (299, 299))  # 이미지 크기를 (299, 299)로 조정 (inception_v3 모델의 규격)\n",
        "  # preprocess_input : 이미지 전처리는 사이즈, 정규화(-1 ~ 1)\n",
        "  # 127.5로 나누고 1을 빼주면 -1 ~ 1 사이 정규화\n",
        "  img = tf.keras.applications.inception_v3.preprocess_input(img)  # 이미지를 Inception_v3 모델에 맞게 전처리\n",
        "        # 이미지를 0과 1사이 범위로 정규화하고 채널별로 평균값을 뺀 후 채널 순서를 RGB에서 BGR로 변경한다.\n",
        "  return img, image_path"
      ],
      "metadata": {
        "id": "bZYcuJ8V_ZqQ"
      },
      "execution_count": 5,
      "outputs": []
    },
    {
      "cell_type": "code",
      "source": [
        "# ConvNet\n",
        "# InceptionV3(wide) # VGG16(3x3) # ResNet(Residul) # EfficientNet(depth, wider, resolution)\n",
        "image_model = tf.keras.applications.InceptionV3(include_top = False, weights = 'imagenet')\n",
        "new_input = image_model.input\n",
        "hidden_layer = image_model.layers[-1].output  # 결과값이 decoder로 입력됨\n",
        "image_features_extract_model = tf.keras.Model(new_input, hidden_layer)\n",
        "# 앞단에는 이미지 뒷단에는 텍스트\n",
        "#          encoder         decoder "
      ],
      "metadata": {
        "colab": {
          "base_uri": "https://localhost:8080/"
        },
        "id": "GAVAgSSz_ZsI",
        "outputId": "850f33c0-1bcb-4d21-ef66-1d45d3bafb75"
      },
      "execution_count": 6,
      "outputs": [
        {
          "output_type": "stream",
          "name": "stdout",
          "text": [
            "Downloading data from https://storage.googleapis.com/tensorflow/keras-applications/inception_v3/inception_v3_weights_tf_dim_ordering_tf_kernels_notop.h5\n",
            "87910968/87910968 [==============================] - 5s 0us/step\n"
          ]
        }
      ]
    },
    {
      "cell_type": "code",
      "source": [
        "encode_train = sorted(set(img_name_vector))\n",
        "# 데이터셋을 분할\n",
        "image_dataset = tf.data.Dataset.from_tensor_slices(encode_train)\n",
        "image_dataset = image_dataset.map(  # map() : 병렬 처리, 이미지를 특성 벡터로 변환\n",
        "    load_image, num_parallel_calls = tf.data.experimental.AUTOTUNE).batch(16)  # load_image() : 이미지 데이터셋 로드하고 전처리\n",
        "for img, path in image_dataset:  # 16개의 덩어리 (batch 사이즈)\n",
        "  batch_features = image_features_extract_model(img)\n",
        "  batch_features = tf.reshape(batch_features,  # 학습행렬 형태로 변형 / tf.reshape()\n",
        "                              # 3차원 데이터\n",
        "                              (batch_features.shape[0], -1, batch_features.shape[3]))\n",
        "  for bf, p in zip(batch_features, path):\n",
        "    path_of_feature = p.numpy().decode('utf-8')\n",
        "    np.save(path_of_feature, bf.numpy())  # 학습 시에는 전처리에 신경쓰지 않고 로딩하여 사용\n",
        "    # np.save() : 특성 벡터를 .npy 파일로 저장한다. 파일 경로는 문자열로 변환됨."
      ],
      "metadata": {
        "id": "CT1bFlGT_Zt4"
      },
      "execution_count": 7,
      "outputs": []
    },
    {
      "cell_type": "code",
      "source": [
        "def calc_max_length(tensor):  # 주어진 텐서(tensor)에서 가장 긴 데이터의 길이를 계산하는 함수\n",
        "  return max(len(t) for t in tensor)  # 계산된 길이들 중 가장 큰 값을 반환 : max()"
      ],
      "metadata": {
        "id": "yu5M1WRG_Zv5"
      },
      "execution_count": 8,
      "outputs": []
    },
    {
      "cell_type": "code",
      "source": [
        "top_k = 5000  # dict의 단어수 (최대로 고려할 단어 5000개)\n",
        "tokenizer = tf.keras.preprocessing.text.Tokenizer(num_words = top_k,\n",
        "                                                  # oov_token = Tokenizer에 의해 unknown 단어 표시하는 토큰\n",
        "                                                  oov_token = \"<unk>\",  # unknown\n",
        "                                    filters = '!\"#$%&()*+.,-/:;=?@[\\]^_{|}~ ')  # 토큰화 시 제거할 필터 문자열\n",
        "tokenizer.fit_on_texts(train_captions)  # 토큰화 수행, 텍스트 데이터 분석하여 단어 인덱스 사전을 생성\n",
        "train_seqs = tokenizer.texts_to_sequences(train_captions)  # 인덱스를 이용하여 문서를 표현"
      ],
      "metadata": {
        "id": "94KVZ8dY_ZxY"
      },
      "execution_count": 9,
      "outputs": []
    },
    {
      "cell_type": "code",
      "source": [
        "tokenizer.word_index['<pad>'] = 0  # <pad> 토큰을 0으로 매핑 (패딩 토큰)\n",
        "tokenizer.index_word[0] = '<pad>'  # tokenizer의 0번 인덱스에 <pad> 매핑 (텍스트로 디코딩)\n",
        "train_seqs = tokenizer.texts_to_sequences(train_captions)  # 학습 캡션 데이터를 정수로 변환\n",
        "# 변환된 정수 시퀀스에 패딩 추가하여 길이를 맞춤\n",
        "cap_vector = tf.keras.preprocessing.sequence.pad_sequences(train_seqs, padding='post')\n",
        "# 변환된 정수 시퀀스의 최대길이 계산\n",
        "max_length = calc_max_length(train_seqs)  # calc_max_length() : 주어진 텐서의 최대길이를 계산하는 함수"
      ],
      "metadata": {
        "id": "FVP-_J4n_Zzg"
      },
      "execution_count": 10,
      "outputs": []
    },
    {
      "cell_type": "code",
      "source": [
        "# train_test_split() : img_name_vector와 cap_vector를 학습 데이터와 검증 데이터로 분할\n",
        "# 검증 데이터 20%\n",
        "img_name_train, img_name_val, cap_train, cap_val = train_test_split(img_name_vector,  \n",
        "                                                                    cap_vector,\n",
        "                                                                    test_size = 0.2,\n",
        "                                                                    random_state = 0)\n",
        "# img_name_vector : 모든 이미지파일 경로가 저장된 리스트\n",
        "# cap_vector : 각 이미지에 대해 캡션의 정수 시퀀스(데이터)가 저장된 배열"
      ],
      "metadata": {
        "id": "PIcuD-j2_Z1R"
      },
      "execution_count": 11,
      "outputs": []
    },
    {
      "cell_type": "code",
      "source": [
        "BATCH_SIZE = 64  # 배치 사이즈\n",
        "BUFFER_SIZE = 1000  # 데이터 섞을때 사용되는 버퍼의 크기 \n",
        "embedding_dim = 256  # 256차원 (단어 임베딩)\n",
        "units = 512  # Attention과 decoder의 유닛 수\n",
        "vocab_size = top_k + 1  # 단어의 수 \n",
        "num_steps = len(img_name_train) // BATCH_SIZE  # 학습 데이터의 batch 수\n",
        "features_shape = 2048  # 이미지특징의 차원수\n",
        "attention_features_shape = 64  # Attention 매커니즘 특징 64차원"
      ],
      "metadata": {
        "id": "echPU9Jj_Z3A"
      },
      "execution_count": 12,
      "outputs": []
    },
    {
      "cell_type": "code",
      "source": [
        "def map_func(img_name, cap):\n",
        "  img_tensor = np.load(img_name.decode('utf-8')+'.npy')\n",
        "  return img_tensor, cap"
      ],
      "metadata": {
        "id": "KWH0DRdrfbFF"
      },
      "execution_count": 13,
      "outputs": []
    },
    {
      "cell_type": "code",
      "source": [
        "dataset = tf.data.Dataset.from_tensor_slices((img_name_train, cap_train))\n",
        "dataset = dataset.map(lambda item1, item2: tf.numpy_function(\n",
        "          map_func, [item1, item2], [tf.float32, tf.int32]),\n",
        "          num_parallel_calls=tf.data.experimental.AUTOTUNE)\n",
        "\n",
        "dataset = dataset.shuffle(BUFFER_SIZE).batch(BATCH_SIZE)\n",
        "dataset = dataset.prefetch(buffer_size=tf.data.experimental.AUTOTUNE)"
      ],
      "metadata": {
        "id": "W0LkPZKpfqg1"
      },
      "execution_count": 14,
      "outputs": []
    },
    {
      "cell_type": "code",
      "source": [
        "class BahdanauAttention(tf.keras.Model):\n",
        "  def __init__(self, units):  # units : Attention 유닛 수\n",
        "    super(BahdanauAttention, self).__init__()\n",
        "    self.W1 = tf.keras.layers.Dense(units)  # Dense 레이어를 사용하여 가중치를 정의\n",
        "    self.W2 = tf.keras.layers.Dense(units)\n",
        "    self.V = tf.keras.layers.Dense(1)\n",
        "  def call(self, features, hidden):  # RNN 망으로부터 각 단어에 추출된 특성, RNN의 hidden state (디코더 은닉상태)\n",
        "    hidden_with_time_axis = tf.expand_dims(hidden, 1)  # 차원 확대\n",
        "    # -1 ~ 1 사이의 값으로 추출 \n",
        "    score = tf.nn.tanh(self.W1(features) + self.W2(hidden_with_time_axis))\n",
        "    attention_weights = tf.nn.softmax(self.V(score), axis = 1)  # 분포값\n",
        "    context_vector = attention_weights * features  # 추출된 특성에 중요도가 고려된 값\n",
        "    context_vector = tf.reduce_sum(context_vector, axis = 1)\n",
        "    return context_vector, attention_weights  # 관계성을 고려한 특징벡터, 확률 (합하면 1)"
      ],
      "metadata": {
        "id": "PWn0T4Cs_Z5Q"
      },
      "execution_count": 15,
      "outputs": []
    },
    {
      "cell_type": "code",
      "source": [
        "# CNN 망 (이미지를 인코딩하는 CNN_Encoder 클래스)\n",
        "class CNN_Encoder(tf.keras.Model):\n",
        "  def __init__(self, embedding_dim):  # embedding_dim : 인코딩된 이미지의 차원\n",
        "    super(CNN_Encoder, self).__init__()\n",
        "    # cnn의 결과를 dense로 출력\n",
        "    self.fc = tf.keras.layers.Dense(embedding_dim)  # Dense layer로, 이미지를 인코딩하는데 사용될 fully connected 정의\n",
        "  def call(self, x):  # 이미지를 인코딩하는 메서드\n",
        "    x = self.fc(x)    # 입력으로 받은 이미지를 fully connected layer에 통과시킨다.\n",
        "    x = tf.nn.relu(x) # relu 활성화함수 적용\n",
        "    return x          # 인코딩된 이미지 반환"
      ],
      "metadata": {
        "id": "2_gEK6sp_Z65"
      },
      "execution_count": 16,
      "outputs": []
    },
    {
      "cell_type": "code",
      "source": [
        "# RNN (텍스트를 생성하는 RNN_Decoder 클래스)\n",
        "class RNN_Decoder(tf.keras.Model):\n",
        "  # embedding_dim : 단어 임베딩의 차원 / units : GRU 레이어 유닛수 / vocab_size : 단어집합의 크기\n",
        "  # 하나의 단어가 표현될 벡터수 / LSTM(GRU)에서 출력되는 특징벡터 / 전체 단어수(dictionary)\n",
        "  # 로딩되는 문서 내용\n",
        "  def __init__(self, embedding_dim, units, vocab_size):  # 클래스의 생성자\n",
        "    super(RNN_Decoder, self).__init__()\n",
        "    self.units = units\n",
        "    self.embedding = tf.keras.layers.Embedding(vocab_size, embedding_dim)\n",
        "    # RNN(기울기 소실 발생) -> LSTM(Control state, hidden state) (단점 : 복잡함, 계산이 많음)\n",
        "    # GRU (LSTM을 변형하여, 계산이 적도록 만듬 (내용은 LSTM을 유지))\n",
        "    # return_sequences = True : 모든 단어로부터 출력되는 특징을 모두 사용하라는 의미\n",
        "    # return\n",
        "    self.gru = tf.keras.layers.GRU(self.units, return_sequences = True,\n",
        "                                   return_state = True,\n",
        "                                   # 행렬 초기화할 때 random으로 하지만, 초기화 방법을 변경\n",
        "                                   recurrent_initializer = 'glorot_uniform')\n",
        "    self.fc1 = tf.keras.layers.Dense(self.units)  # FFNN 망\n",
        "    self.fc2 = tf.keras.layers.Dense(vocab_size)\n",
        "    self.attention = BahdanauAttention(self.units)\n",
        "  # 텍스트를 생성하는 메서드\n",
        "  # x는 입력으로 받음, 이전 시점의 출력 단어 / features : 이미지의 인코딩 벡터\n",
        "  # hidden : 이전 시점의 은닉 상태\n",
        "  def call(self, x, features, hidden):\n",
        "    # attention distribution  분포값\n",
        "    context_vector, attention_weights = self.attention(features, hidden)  # BahdanauAttention으로 계산\n",
        "    x = self.embedding(x)  # 입력 단어를 임베딩 벡터로 변환 \n",
        "    x = tf.concat([tf.expand_dims(context_vector, 1), x], axis = -1)  # context vector와 임베딩된 단어 결합\n",
        "    output, state = self.gru(x)  # output : 시퀀스 / state : 은닉 상태(hidden state)\n",
        "    x = self.fc1(output)\n",
        "    x = tf.reshape(x, (-1, x.shape[2]))  # flatten()하는 것 (평탄화)\n",
        "    x = self.fc2(x)  # tf.keras.layers.Dense(vocab_size)\n",
        "    return x, state, attention_weights\n",
        "\n",
        "  def reset_state(self, batch_size):  # hidden state를 초기화하는 메서드\n",
        "    return tf.zeros((batch_size, self.units))  # batch_size에 맞는 크기로, 0으로 채워진 텐서 반환"
      ],
      "metadata": {
        "id": "lQqWhaDL_Z8p"
      },
      "execution_count": 17,
      "outputs": []
    },
    {
      "cell_type": "code",
      "source": [
        "# 학습\n",
        "# seq2seq 망 (번역망) + attention\n",
        "# 이미지 + 텍스트 => image captioning (인코더, 디코더 객체 사용하여 이미지와 텍스트를 매핑하는 모델 구축)\n",
        "\n",
        "# 인코더 : 이미지를 입력으로 받아 이미지를 인코딩하는 역할\n",
        "# embedding_dim을 인자로 받아 fully connected 레이어를 정의\n",
        "encoder = CNN_Encoder(embedding_dim) \n",
        "# 디코더 : 이전 시점의 출력과 이미지 인코딩을 입력으로 받아 다음 단어를 예측하는 역할 \n",
        "# embedding_dim, units, vocab_size를 인자로 받아\n",
        "# 임베딩 layer, GRU layer, fully connected 레이어를 정의하고 BahdanauAttention 클래스를 인스턴스\n",
        "decoder = RNN_Decoder(embedding_dim, units, vocab_size)"
      ],
      "metadata": {
        "id": "hP4X6bJ4MYe9"
      },
      "execution_count": 18,
      "outputs": []
    },
    {
      "cell_type": "code",
      "source": [
        "optimizer = tf.keras.optimizers.Adam()  # Adam() : 경사 하강법, 모델의 가중치를 업데이트\n",
        "loss_object = tf.keras.losses.SparseCategoricalCrossentropy(  # 희소 범주형 크로스 엔트로피 손실 함수\n",
        "    from_logits = True, reduction = 'none')\n",
        "def loss_function(real, pred):\n",
        "  mask = tf.math.logical_not(tf.math.equal(real, 0))\n",
        "  loss_ = loss_object(real, pred)  # SparseCategoricalCrossentropy\n",
        "  mask = tf.cast(mask, dtype=loss_.dtype)  # 마스크 생성(패딩된 부분을 고려하기 위해)\n",
        "  loss_ *= mask  # 손실값을 계산한 후 mask를 적용하여 패딩 부분 손실을 제거한다.\n",
        "  return tf.reduce_mean(loss_)  # 평균 손실 값을 반환"
      ],
      "metadata": {
        "id": "RAgGglmvUOMu"
      },
      "execution_count": 19,
      "outputs": []
    },
    {
      "cell_type": "code",
      "source": [
        "checkpoint_path = './checkpoints/train'  # 체크포인트 파일 경로\n",
        "ckpt = tf.train.Checkpoint(encoder = encoder,  # 좋은 모델을 선택\n",
        "                           decoder = decoder,\n",
        "                           optimizer = optimizer)\n",
        "# 체크포인트 매니저 객체 생성 : 체크포인트 관리하는 역할\n",
        "# ckpt : 체크포인트 / checkpoint_path : 체크포인트 파일 경로 / max_to_keep : 최대 5개로 체크포인트 파일 유지\n",
        "ckpt_manager = tf.train.CheckpointManager(ckpt, checkpoint_path, max_to_keep = 5)"
      ],
      "metadata": {
        "id": "ZMmtAtrWUv5S"
      },
      "execution_count": 20,
      "outputs": []
    },
    {
      "cell_type": "code",
      "source": [
        "start_epoch = 0\n",
        "if ckpt_manager.latest_checkpoint:  # 이미 저장된 체크포인트가 있는지 검사\n",
        " # 체크포인트 파일명은 train-{epoch 번호} 형식, '-'을 기준으로 분할한 후 마지막 요소인 epoch 번호를 추출\n",
        "  start_epoch = int(ckpt_manager.latest_checkpoint.split('-')[-1])  # epoch 정보 추출\n",
        "  # 가장 최근의 체크포인트 파일 복원하여, 모델 가중치와 옵티마이저 상태 복구 (훈련 재개 가능)\n",
        "  ckpt.restore(ckpt_manager.latest_checkpoint)\n",
        "loss_plot = []  # 손실 값을 저장하기 위한 리스트"
      ],
      "metadata": {
        "id": "N9cjQY1tUxN2"
      },
      "execution_count": 21,
      "outputs": []
    },
    {
      "cell_type": "code",
      "source": [
        "# 훈련 스텝(train step)을 수행하는 함수\n",
        "@tf.function  # 데코레이터 / Tensorflow 그래프로 변환되어 최적화된 실행이 가능하도록 한다.\n",
        "def train_step(img_tensor, target):  # 이미지 텐서 / 타겟 변수\n",
        "  loss = 0 \n",
        "  hidden = decoder.reset_state(batch_size = target.shape[0])  # 디코더의 은닉 상태 초기화, 배치크기 zero\n",
        "  # 개수\n",
        "  # 행을 열로 만듬\n",
        "  dec_input = tf.expand_dims([tokenizer.word_index['<start>']] * target.shape[0], 1)\n",
        "  with tf.GradientTape() as tape:  # 미분한 결과값을 저장\n",
        "    features = encoder(img_tensor)  # 이미지 텐서를 인코더에 입력하여 특성 추출\n",
        "    for i in range(1, target.shape[1]):  # 타겟 시퀀스 길이만큼 반복하면서 디코더에 입력하고 손실 계산\n",
        "      predictions, hidden, _ = decoder(dec_input, features, hidden)  # 디코더에 입력, 예측값과 다음 은닉상태 반환\n",
        "      loss += loss_function(target[:, i], predictions)  # 손실함수 사용하여 예측값 - 실제 타겟 값 비교하여 손실 누적\n",
        "      dec_input = tf.expand_dims(target[:, i], 1)  # 디코더의 다음 입력으로 타겟 값을 사용\n",
        "  total_loss = (loss / int(target.shape[1]))  # 계산된 loss를 타겟 시퀀스 길이로 나누어 평균손실 구하기\n",
        "  # 역전파를 통해 가중치를 수정\n",
        "  trainable_variables = encoder.trainable_variables + decoder.trainable_variables\n",
        "  gradients = tape.gradient(loss, trainable_variables)  # 미분 / 손실에 대한 변수들의 기울기\n",
        "  optimizer.apply_gradients(zip(gradients, trainable_variables))  # 기울기를 가중치에 적용한다\n",
        "  return loss, total_loss  # 손실 값, 평균 손실 값을 반환"
      ],
      "metadata": {
        "id": "cZfke9o4UxPz"
      },
      "execution_count": 26,
      "outputs": []
    },
    {
      "cell_type": "code",
      "source": [
        "EPOCHS = 10\n",
        "for epoch in range(start_epoch, EPOCHS):  # 데이터가 많음 : 중도에 학습 중지\n",
        "  start = time.time()  # 학습 시간 측정\n",
        "  total_loss = 0  # 총 손실(loss) 초기화\n",
        "  # from_tensor_slice (이미지 파일은 전처리하여 다시 파일로 저장된다.)\n",
        "  for (batch, (img_tensor, target)) in enumerate(dataset):  # 이미지 + 캡션 (배치 사이즈 : 64)\n",
        "    batch_loss, t_loss = train_step(img_tensor, target)  # train_step() : 현재 batch의 손실을 계산\n",
        "    total_loss += t_loss  # 배치 손실을 총 손실에 더한다.\n",
        "    if batch % 100 == 0:  # 매 100번째 batch마다, 현재 손실을 출력한다.\n",
        "      print('Epoch {} Batch {} Loss {:.4f}'.format(\n",
        "          epoch+1, batch, batch_loss.numpy() / int(target.shape[1])))\n",
        "  loss_plot.append(total_loss / num_steps)  # 현재 epoch의 평균손실을 손실 플롯 리스트에 추가\n",
        "  if epoch % 5 == 0:  # 매 5번째 epoch마다 모델의 checkpoint를 저장\n",
        "    ckpt_manager.save()\n",
        "  print('Epoch {} Loss {:.6f}'.format(epoch + 1,\n",
        "                                      total_loss / num_steps))  # 현재 epoch의 평균 손실 출력\n",
        "  print('Time taken for 1 epoch {} sec\\n'.format(time.time() - start))  # epoch의 학습 경과 시간 출력"
      ],
      "metadata": {
        "colab": {
          "base_uri": "https://localhost:8080/"
        },
        "id": "2Qq8c-MBfkaF",
        "outputId": "679ec813-9d20-449a-fd05-781823a0b4e1"
      },
      "execution_count": 27,
      "outputs": [
        {
          "output_type": "stream",
          "name": "stdout",
          "text": [
            "Epoch 1 Batch 0 Loss 2.0049\n",
            "Epoch 1 Batch 100 Loss 1.1348\n",
            "Epoch 1 Batch 200 Loss 0.9628\n",
            "Epoch 1 Batch 300 Loss 0.8689\n",
            "Epoch 1 Loss 1.045728\n",
            "Time taken for 1 epoch 202.37740778923035 sec\n",
            "\n",
            "Epoch 2 Batch 0 Loss 0.8485\n",
            "Epoch 2 Batch 100 Loss 0.8816\n",
            "Epoch 2 Batch 200 Loss 0.7949\n",
            "Epoch 2 Batch 300 Loss 0.8060\n",
            "Epoch 2 Loss 0.797416\n",
            "Time taken for 1 epoch 97.62148427963257 sec\n",
            "\n",
            "Epoch 3 Batch 0 Loss 0.7392\n",
            "Epoch 3 Batch 100 Loss 0.7508\n",
            "Epoch 3 Batch 200 Loss 0.6490\n",
            "Epoch 3 Batch 300 Loss 0.7523\n",
            "Epoch 3 Loss 0.724468\n",
            "Time taken for 1 epoch 106.92348194122314 sec\n",
            "\n",
            "Epoch 4 Batch 0 Loss 0.6967\n",
            "Epoch 4 Batch 100 Loss 0.7094\n",
            "Epoch 4 Batch 200 Loss 0.6221\n",
            "Epoch 4 Batch 300 Loss 0.7036\n",
            "Epoch 4 Loss 0.679351\n",
            "Time taken for 1 epoch 107.4851303100586 sec\n",
            "\n",
            "Epoch 5 Batch 0 Loss 0.5826\n",
            "Epoch 5 Batch 100 Loss 0.6581\n",
            "Epoch 5 Batch 200 Loss 0.6745\n",
            "Epoch 5 Batch 300 Loss 0.6051\n",
            "Epoch 5 Loss 0.643403\n",
            "Time taken for 1 epoch 97.93176674842834 sec\n",
            "\n",
            "Epoch 6 Batch 0 Loss 0.6155\n",
            "Epoch 6 Batch 100 Loss 0.6299\n",
            "Epoch 6 Batch 200 Loss 0.5977\n",
            "Epoch 6 Batch 300 Loss 0.5830\n",
            "Epoch 6 Loss 0.610822\n",
            "Time taken for 1 epoch 115.24432063102722 sec\n",
            "\n",
            "Epoch 7 Batch 0 Loss 0.5925\n",
            "Epoch 7 Batch 100 Loss 0.6874\n",
            "Epoch 7 Batch 200 Loss 0.5995\n",
            "Epoch 7 Batch 300 Loss 0.6071\n",
            "Epoch 7 Loss 0.580385\n",
            "Time taken for 1 epoch 105.61698389053345 sec\n",
            "\n",
            "Epoch 8 Batch 0 Loss 0.5483\n",
            "Epoch 8 Batch 100 Loss 0.5575\n",
            "Epoch 8 Batch 200 Loss 0.5345\n",
            "Epoch 8 Batch 300 Loss 0.5626\n",
            "Epoch 8 Loss 0.550142\n",
            "Time taken for 1 epoch 113.95271015167236 sec\n",
            "\n",
            "Epoch 9 Batch 0 Loss 0.5342\n",
            "Epoch 9 Batch 100 Loss 0.5065\n",
            "Epoch 9 Batch 200 Loss 0.5095\n",
            "Epoch 9 Batch 300 Loss 0.5211\n",
            "Epoch 9 Loss 0.520893\n",
            "Time taken for 1 epoch 103.66350173950195 sec\n",
            "\n",
            "Epoch 10 Batch 0 Loss 0.5081\n",
            "Epoch 10 Batch 100 Loss 0.4804\n",
            "Epoch 10 Batch 200 Loss 0.5099\n",
            "Epoch 10 Batch 300 Loss 0.4913\n",
            "Epoch 10 Loss 0.492781\n",
            "Time taken for 1 epoch 113.3789427280426 sec\n",
            "\n"
          ]
        }
      ]
    },
    {
      "cell_type": "code",
      "source": [
        "import matplotlib.pyplot as plt\n",
        "plt.plot(loss_plot)\n",
        "plt.xlabel('Epochs')\n",
        "plt.ylabel('Loss')\n",
        "plt.title('Loss Plot')\n",
        "plt.show()"
      ],
      "metadata": {
        "colab": {
          "base_uri": "https://localhost:8080/",
          "height": 472
        },
        "id": "RM7CQ7J8UxTt",
        "outputId": "19b88598-c309-4daf-b7ed-ef3921a4bdce"
      },
      "execution_count": 28,
      "outputs": [
        {
          "output_type": "display_data",
          "data": {
            "text/plain": [
              "<Figure size 640x480 with 1 Axes>"
            ],
            "image/png": "[encoded data removed]"
          },
          "metadata": {}
        }
      ]
    }
  ]
}