{
  "nbformat": 4,
  "nbformat_minor": 0,
  "metadata": {
    "colab": {
      "provenance": [],
      "authorship_tag": "ABX9TyOGa28Mv3eEPSmKcyIRc8J9",
      "include_colab_link": true
    },
    "kernelspec": {
      "name": "python3",
      "display_name": "Python 3"
    },
    "language_info": {
      "name": "python"
    }
  },
  "cells": [
    {
      "cell_type": "markdown",
      "metadata": {
        "id": "view-in-github",
        "colab_type": "text"
      },
      "source": [
        "<a href=\"https://colab.research.google.com/github/Yunho-seo/education_center6/blob/main/01_%EB%8C%80%EC%A0%84_publish(back).ipynb\" target=\"_parent\"><img src=\"https://colab.research.google.com/assets/colab-badge.svg\" alt=\"Open In Colab\"/></a>"
      ]
    },
    {
      "cell_type": "code",
      "source": [
        "# 송신부"
      ],
      "metadata": {
        "id": "xtatVpIB7wRg"
      },
      "execution_count": null,
      "outputs": []
    },
    {
      "cell_type": "code",
      "source": [
        "!pip install paho-mqtt"
      ],
      "metadata": {
        "colab": {
          "base_uri": "https://localhost:8080/"
        },
        "id": "DjHZ7LP63bOQ",
        "outputId": "1fa7977c-b096-45a9-be4a-9ed748d25099"
      },
      "execution_count": null,
      "outputs": [
        {
          "output_type": "stream",
          "name": "stdout",
          "text": [
            "Looking in indexes: https://pypi.org/simple, https://us-python.pkg.dev/colab-wheels/public/simple/\n",
            "Requirement already satisfied: paho-mqtt in /usr/local/lib/python3.10/dist-packages (1.6.1)\n"
          ]
        }
      ]
    },
    {
      "cell_type": "code",
      "execution_count": null,
      "metadata": {
        "colab": {
          "base_uri": "https://localhost:8080/"
        },
        "id": "-NDJdrcW3GeQ",
        "outputId": "3297d162-1e4e-49d2-a444-a62572e6fe85"
      },
      "outputs": [
        {
          "output_type": "execute_result",
          "data": {
            "text/plain": [
              "<paho.mqtt.client.MQTTMessageInfo at 0x7f66942b5d00>"
            ]
          },
          "metadata": {},
          "execution_count": 79
        }
      ],
      "source": [
        "import paho.mqtt.client as mqtt\n",
        "client = mqtt.Client()\n",
        "client.username_pw_set(username = 'mirae', password = 'daejeon1234')\n",
        "client.connect('34.64.86.80', 19883)\n",
        "client.publish('house/light', '빨리켜지기')"
      ]
    },
    {
      "cell_type": "code",
      "source": [
        "client.publish('house/light', 'light on')"
      ],
      "metadata": {
        "colab": {
          "base_uri": "https://localhost:8080/"
        },
        "id": "8qLhUK8I3bKY",
        "outputId": "4ce3facf-47b4-48df-ec4c-1f12f8c29722"
      },
      "execution_count": null,
      "outputs": [
        {
          "output_type": "execute_result",
          "data": {
            "text/plain": [
              "<paho.mqtt.client.MQTTMessageInfo at 0x7f669740ae30>"
            ]
          },
          "metadata": {},
          "execution_count": 70
        }
      ]
    },
    {
      "cell_type": "code",
      "source": [
        "# 문제\n",
        "# 메시지로 {\"light\":\"turnoff\", \"door\":\"close\"}를 전송하고자 한다\n",
        "# 이를 수신하는 쪽에서 json형태로 parsing하여 출력"
      ],
      "metadata": {
        "id": "N7KYnrLl3bAA"
      },
      "execution_count": null,
      "outputs": []
    },
    {
      "cell_type": "code",
      "source": [
        "import json \n",
        "\n",
        "message = '{\"light\":\"turnoff\", \"door\":\"close\"}'\n",
        "parse = json.loads(message)\n",
        "light = parse[\"light\"]\n",
        "door = parse[\"door\"]\n",
        "\n",
        "client.publish('house/light', light)\n",
        "client.publish('house/light', door)"
      ],
      "metadata": {
        "colab": {
          "base_uri": "https://localhost:8080/"
        },
        "id": "wTPPTZgb7okB",
        "outputId": "5da901ff-b860-452b-9aa5-0ad0f2b390d9"
      },
      "execution_count": null,
      "outputs": [
        {
          "output_type": "execute_result",
          "data": {
            "text/plain": [
              "<paho.mqtt.client.MQTTMessageInfo at 0x7f66942d1080>"
            ]
          },
          "metadata": {},
          "execution_count": 72
        }
      ]
    },
    {
      "cell_type": "code",
      "source": [
        "# 문제\n",
        "# 수신한 데이터를 mariadb 테이블에 저장\n",
        "# publish되면, subscribe하여 mariadb에 저장되게 하기\n",
        "import json   # web 표준 (네트워크로 데이터를 전송)\n",
        "\n",
        "message = {}\n",
        "message[\"light\"] = \"on\"\n",
        "message[\"door\"] = \"close\"\n",
        "transferdata = json.dumps(message)  # 문자열로 생성\n",
        "client.connect('34.64.86.80', 19883)\n",
        "client.publish(\"house/light\", transferdata)"
      ],
      "metadata": {
        "colab": {
          "base_uri": "https://localhost:8080/"
        },
        "id": "XYwzwYqUrFfx",
        "outputId": "a5ddd120-5f9e-4830-9a6d-bd6dcc7288a7"
      },
      "execution_count": 89,
      "outputs": [
        {
          "output_type": "execute_result",
          "data": {
            "text/plain": [
              "<paho.mqtt.client.MQTTMessageInfo at 0x7f66942f6f20>"
            ]
          },
          "metadata": {},
          "execution_count": 89
        }
      ]
    },
    {
      "cell_type": "code",
      "source": [
        "import json\n",
        "import paho.mqtt.client as mqtt\n",
        "client = mqtt.Client()\n",
        "client.connect('34.64.86.80', 19883) \n",
        "message = {}\n",
        "message['light'] = 'off'\n",
        "message['door'] = 'open'\n",
        "transferdata = json.dumps(message)\n",
        "client.publish('house/light', transferdata)"
      ],
      "metadata": {
        "id": "ZWNnxQnqET3L",
        "colab": {
          "base_uri": "https://localhost:8080/"
        },
        "outputId": "54c048cd-695d-4bff-892b-8119976e94f5"
      },
      "execution_count": 90,
      "outputs": [
        {
          "output_type": "execute_result",
          "data": {
            "text/plain": [
              "<paho.mqtt.client.MQTTMessageInfo at 0x7f66942f7420>"
            ]
          },
          "metadata": {},
          "execution_count": 90
        }
      ]
    },
    {
      "cell_type": "code",
      "source": [
        "# 문제\n",
        "# con 객체는 어디서 연결하고 어디서 끊어야 하는가?\n",
        "# 강제로 서버에서 끊을 수 있는가?\n",
        "# 무한루프로 회전하며 메시지를 수신하는데, 중단하고 싶을때 어떻게 해야하는가?"
      ],
      "metadata": {
        "id": "xAK5hLclrHhv"
      },
      "execution_count": null,
      "outputs": []
    },
    {
      "cell_type": "code",
      "source": [
        "import json   # web 표준 (네트워크로 데이터를 전송)\n",
        "message = {}  # python에서는 dict형\n",
        "message[\"light\"] = \"on\"\n",
        "message[\"door\"] = \"close\"\n",
        "message[\"close\"] = \"true\"  # 메시지 중 특별한 메시지로 확인할 수 있고\n",
        "# 종료일 때는 메시지 하나만 보내고 수신 시 if문으로 확인하고, 아닐 때는 payload 분석하여 처리\n",
        "message[\"hangeul\"] = \"대전\"\n",
        "transferdata = json.dumps(message)  # dumps() : 문자열로 생성\n",
        "client.publish(\"house/light\", transferdata)"
      ],
      "metadata": {
        "colab": {
          "base_uri": "https://localhost:8080/"
        },
        "id": "tex4mvDWF5FT",
        "outputId": "8172af36-7627-4203-b344-63a828cd5388"
      },
      "execution_count": 92,
      "outputs": [
        {
          "output_type": "execute_result",
          "data": {
            "text/plain": [
              "<paho.mqtt.client.MQTTMessageInfo at 0x7f66942f5df0>"
            ]
          },
          "metadata": {},
          "execution_count": 92
        }
      ]
    },
    {
      "cell_type": "code",
      "source": [],
      "metadata": {
        "id": "sy00j47nEJpK"
      },
      "execution_count": null,
      "outputs": []
    }
  ]
}